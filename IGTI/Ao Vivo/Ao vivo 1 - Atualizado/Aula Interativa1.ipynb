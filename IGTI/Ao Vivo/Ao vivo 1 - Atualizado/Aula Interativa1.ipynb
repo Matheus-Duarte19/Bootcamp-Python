{
 "cells": [
  {
   "cell_type": "code",
   "execution_count": 1,
   "metadata": {
    "id": "ZvR1ebmeQL_7"
   },
   "outputs": [],
   "source": [
    "#notebook utilizado para a disciplina de Python Avançado para o bootcamp de python"
   ]
  },
  {
   "cell_type": "code",
   "execution_count": 2,
   "metadata": {
    "id": "2HwwgCDFQvO_"
   },
   "outputs": [],
   "source": [
    "#importando as bibliotecas\n",
    "import pandas as pd  #bibioteca responsável para o tratamento e limpeza dos dados\n",
    "import numpy as np #biblioteca utilizada para o tratamento eficiente de dados numéricos\n",
    "import datetime  #biblioteca utilizada para trabalhar com datas\n",
    "from matplotlib import pyplot as plt  #plotar os gráficos\n",
    "import seaborn as sns #plot de gráficos"
   ]
  },
  {
   "cell_type": "markdown",
   "metadata": {
    "id": "oRYM8oMFSWMQ"
   },
   "source": [
    "**Iniciando a análise exploratória**"
   ]
  },
  {
   "cell_type": "code",
   "execution_count": 3,
   "metadata": {
    "colab": {
     "base_uri": "https://localhost:8080/",
     "height": 328
    },
    "id": "z2EnE_9fQzp3",
    "outputId": "f3bf8deb-dca3-4a37-9b27-48134312320b"
   },
   "outputs": [],
   "source": [
    "#carregando os dados para o pandas\n",
    "df_consultas=pd.read_csv('consultas.csv')"
   ]
  },
  {
   "cell_type": "code",
   "execution_count": 4,
   "metadata": {},
   "outputs": [
    {
     "data": {
      "text/plain": [
       "Index(['PatientId', 'AppointmentID', 'Gender', 'ScheduledDay',\n",
       "       'AppointmentDay', 'Age', 'Neighbourhood', 'Scholarship', 'Hipertension',\n",
       "       'Diabetes', 'Alcoholism', 'Handcap', 'SMS_received', 'No-show'],\n",
       "      dtype='object')"
      ]
     },
     "execution_count": 4,
     "metadata": {},
     "output_type": "execute_result"
    }
   ],
   "source": [
    "df_consultas.columns"
   ]
  },
  {
   "cell_type": "code",
   "execution_count": 5,
   "metadata": {
    "id": "WIHYpOPSQzuG"
   },
   "outputs": [
    {
     "data": {
      "text/html": [
       "<div>\n",
       "<style scoped>\n",
       "    .dataframe tbody tr th:only-of-type {\n",
       "        vertical-align: middle;\n",
       "    }\n",
       "\n",
       "    .dataframe tbody tr th {\n",
       "        vertical-align: top;\n",
       "    }\n",
       "\n",
       "    .dataframe thead th {\n",
       "        text-align: right;\n",
       "    }\n",
       "</style>\n",
       "<table border=\"1\" class=\"dataframe\">\n",
       "  <thead>\n",
       "    <tr style=\"text-align: right;\">\n",
       "      <th></th>\n",
       "      <th>PatientId</th>\n",
       "      <th>AppointmentID</th>\n",
       "      <th>Gender</th>\n",
       "      <th>ScheduledDay</th>\n",
       "      <th>AppointmentDay</th>\n",
       "      <th>Age</th>\n",
       "      <th>Neighbourhood</th>\n",
       "      <th>Scholarship</th>\n",
       "      <th>Hipertension</th>\n",
       "      <th>Diabetes</th>\n",
       "      <th>Alcoholism</th>\n",
       "      <th>Handcap</th>\n",
       "      <th>SMS_received</th>\n",
       "      <th>No-show</th>\n",
       "    </tr>\n",
       "  </thead>\n",
       "  <tbody>\n",
       "    <tr>\n",
       "      <th>0</th>\n",
       "      <td>2.987250e+13</td>\n",
       "      <td>5642903</td>\n",
       "      <td>F</td>\n",
       "      <td>2016-04-29T18:38:08Z</td>\n",
       "      <td>2016-04-29T00:00:00Z</td>\n",
       "      <td>62</td>\n",
       "      <td>JARDIM DA PENHA</td>\n",
       "      <td>0</td>\n",
       "      <td>1</td>\n",
       "      <td>0</td>\n",
       "      <td>0</td>\n",
       "      <td>0</td>\n",
       "      <td>0</td>\n",
       "      <td>No</td>\n",
       "    </tr>\n",
       "    <tr>\n",
       "      <th>1</th>\n",
       "      <td>5.589978e+14</td>\n",
       "      <td>5642503</td>\n",
       "      <td>M</td>\n",
       "      <td>2016-04-29T16:08:27Z</td>\n",
       "      <td>2016-04-29T00:00:00Z</td>\n",
       "      <td>56</td>\n",
       "      <td>JARDIM DA PENHA</td>\n",
       "      <td>0</td>\n",
       "      <td>0</td>\n",
       "      <td>0</td>\n",
       "      <td>0</td>\n",
       "      <td>0</td>\n",
       "      <td>0</td>\n",
       "      <td>No</td>\n",
       "    </tr>\n",
       "    <tr>\n",
       "      <th>2</th>\n",
       "      <td>4.262962e+12</td>\n",
       "      <td>5642549</td>\n",
       "      <td>F</td>\n",
       "      <td>2016-04-29T16:19:04Z</td>\n",
       "      <td>2016-04-29T00:00:00Z</td>\n",
       "      <td>62</td>\n",
       "      <td>MATA DA PRAIA</td>\n",
       "      <td>0</td>\n",
       "      <td>0</td>\n",
       "      <td>0</td>\n",
       "      <td>0</td>\n",
       "      <td>0</td>\n",
       "      <td>0</td>\n",
       "      <td>No</td>\n",
       "    </tr>\n",
       "    <tr>\n",
       "      <th>3</th>\n",
       "      <td>8.679512e+11</td>\n",
       "      <td>5642828</td>\n",
       "      <td>F</td>\n",
       "      <td>2016-04-29T17:29:31Z</td>\n",
       "      <td>2016-04-29T00:00:00Z</td>\n",
       "      <td>8</td>\n",
       "      <td>PONTAL DE CAMBURI</td>\n",
       "      <td>0</td>\n",
       "      <td>0</td>\n",
       "      <td>0</td>\n",
       "      <td>0</td>\n",
       "      <td>0</td>\n",
       "      <td>0</td>\n",
       "      <td>No</td>\n",
       "    </tr>\n",
       "    <tr>\n",
       "      <th>4</th>\n",
       "      <td>8.841186e+12</td>\n",
       "      <td>5642494</td>\n",
       "      <td>F</td>\n",
       "      <td>2016-04-29T16:07:23Z</td>\n",
       "      <td>2016-04-29T00:00:00Z</td>\n",
       "      <td>56</td>\n",
       "      <td>JARDIM DA PENHA</td>\n",
       "      <td>0</td>\n",
       "      <td>1</td>\n",
       "      <td>1</td>\n",
       "      <td>0</td>\n",
       "      <td>0</td>\n",
       "      <td>0</td>\n",
       "      <td>No</td>\n",
       "    </tr>\n",
       "    <tr>\n",
       "      <th>5</th>\n",
       "      <td>9.598513e+13</td>\n",
       "      <td>5626772</td>\n",
       "      <td>F</td>\n",
       "      <td>2016-04-27T08:36:51Z</td>\n",
       "      <td>2016-04-29T00:00:00Z</td>\n",
       "      <td>76</td>\n",
       "      <td>REPÚBLICA</td>\n",
       "      <td>0</td>\n",
       "      <td>1</td>\n",
       "      <td>0</td>\n",
       "      <td>0</td>\n",
       "      <td>0</td>\n",
       "      <td>0</td>\n",
       "      <td>No</td>\n",
       "    </tr>\n",
       "    <tr>\n",
       "      <th>6</th>\n",
       "      <td>7.336882e+14</td>\n",
       "      <td>5630279</td>\n",
       "      <td>F</td>\n",
       "      <td>2016-04-27T15:05:12Z</td>\n",
       "      <td>2016-04-29T00:00:00Z</td>\n",
       "      <td>23</td>\n",
       "      <td>GOIABEIRAS</td>\n",
       "      <td>0</td>\n",
       "      <td>0</td>\n",
       "      <td>0</td>\n",
       "      <td>0</td>\n",
       "      <td>0</td>\n",
       "      <td>0</td>\n",
       "      <td>Yes</td>\n",
       "    </tr>\n",
       "    <tr>\n",
       "      <th>7</th>\n",
       "      <td>3.449833e+12</td>\n",
       "      <td>5630575</td>\n",
       "      <td>F</td>\n",
       "      <td>2016-04-27T15:39:58Z</td>\n",
       "      <td>2016-04-29T00:00:00Z</td>\n",
       "      <td>39</td>\n",
       "      <td>GOIABEIRAS</td>\n",
       "      <td>0</td>\n",
       "      <td>0</td>\n",
       "      <td>0</td>\n",
       "      <td>0</td>\n",
       "      <td>0</td>\n",
       "      <td>0</td>\n",
       "      <td>Yes</td>\n",
       "    </tr>\n",
       "    <tr>\n",
       "      <th>8</th>\n",
       "      <td>5.639473e+13</td>\n",
       "      <td>5638447</td>\n",
       "      <td>F</td>\n",
       "      <td>2016-04-29T08:02:16Z</td>\n",
       "      <td>2016-04-29T00:00:00Z</td>\n",
       "      <td>21</td>\n",
       "      <td>ANDORINHAS</td>\n",
       "      <td>0</td>\n",
       "      <td>0</td>\n",
       "      <td>0</td>\n",
       "      <td>0</td>\n",
       "      <td>0</td>\n",
       "      <td>0</td>\n",
       "      <td>No</td>\n",
       "    </tr>\n",
       "    <tr>\n",
       "      <th>9</th>\n",
       "      <td>7.812456e+13</td>\n",
       "      <td>5629123</td>\n",
       "      <td>F</td>\n",
       "      <td>2016-04-27T12:48:25Z</td>\n",
       "      <td>2016-04-29T00:00:00Z</td>\n",
       "      <td>19</td>\n",
       "      <td>CONQUISTA</td>\n",
       "      <td>0</td>\n",
       "      <td>0</td>\n",
       "      <td>0</td>\n",
       "      <td>0</td>\n",
       "      <td>0</td>\n",
       "      <td>0</td>\n",
       "      <td>No</td>\n",
       "    </tr>\n",
       "  </tbody>\n",
       "</table>\n",
       "</div>"
      ],
      "text/plain": [
       "      PatientId  AppointmentID Gender          ScheduledDay  \\\n",
       "0  2.987250e+13        5642903      F  2016-04-29T18:38:08Z   \n",
       "1  5.589978e+14        5642503      M  2016-04-29T16:08:27Z   \n",
       "2  4.262962e+12        5642549      F  2016-04-29T16:19:04Z   \n",
       "3  8.679512e+11        5642828      F  2016-04-29T17:29:31Z   \n",
       "4  8.841186e+12        5642494      F  2016-04-29T16:07:23Z   \n",
       "5  9.598513e+13        5626772      F  2016-04-27T08:36:51Z   \n",
       "6  7.336882e+14        5630279      F  2016-04-27T15:05:12Z   \n",
       "7  3.449833e+12        5630575      F  2016-04-27T15:39:58Z   \n",
       "8  5.639473e+13        5638447      F  2016-04-29T08:02:16Z   \n",
       "9  7.812456e+13        5629123      F  2016-04-27T12:48:25Z   \n",
       "\n",
       "         AppointmentDay  Age      Neighbourhood  Scholarship  Hipertension  \\\n",
       "0  2016-04-29T00:00:00Z   62    JARDIM DA PENHA            0             1   \n",
       "1  2016-04-29T00:00:00Z   56    JARDIM DA PENHA            0             0   \n",
       "2  2016-04-29T00:00:00Z   62      MATA DA PRAIA            0             0   \n",
       "3  2016-04-29T00:00:00Z    8  PONTAL DE CAMBURI            0             0   \n",
       "4  2016-04-29T00:00:00Z   56    JARDIM DA PENHA            0             1   \n",
       "5  2016-04-29T00:00:00Z   76          REPÚBLICA            0             1   \n",
       "6  2016-04-29T00:00:00Z   23         GOIABEIRAS            0             0   \n",
       "7  2016-04-29T00:00:00Z   39         GOIABEIRAS            0             0   \n",
       "8  2016-04-29T00:00:00Z   21         ANDORINHAS            0             0   \n",
       "9  2016-04-29T00:00:00Z   19          CONQUISTA            0             0   \n",
       "\n",
       "   Diabetes  Alcoholism  Handcap  SMS_received No-show  \n",
       "0         0           0        0             0      No  \n",
       "1         0           0        0             0      No  \n",
       "2         0           0        0             0      No  \n",
       "3         0           0        0             0      No  \n",
       "4         1           0        0             0      No  \n",
       "5         0           0        0             0      No  \n",
       "6         0           0        0             0     Yes  \n",
       "7         0           0        0             0     Yes  \n",
       "8         0           0        0             0      No  \n",
       "9         0           0        0             0      No  "
      ]
     },
     "execution_count": 5,
     "metadata": {},
     "output_type": "execute_result"
    }
   ],
   "source": [
    "#mostrando as características do dataset\n",
    "df_consultas.head(10)"
   ]
  },
  {
   "cell_type": "code",
   "execution_count": 6,
   "metadata": {},
   "outputs": [
    {
     "name": "stdout",
     "output_type": "stream",
     "text": [
      "<class 'str'>\n"
     ]
    }
   ],
   "source": [
    "print(type(df_consultas['ScheduledDay'][0]))"
   ]
  },
  {
   "cell_type": "markdown",
   "metadata": {
    "id": "-PjIjT8eUsJ2"
   },
   "source": [
    "**Quantas instâncias e atributos existem no dataset?**"
   ]
  },
  {
   "cell_type": "code",
   "execution_count": 7,
   "metadata": {
    "id": "tbnj7HmTQzwt"
   },
   "outputs": [
    {
     "data": {
      "text/plain": [
       "(110527, 14)"
      ]
     },
     "execution_count": 7,
     "metadata": {},
     "output_type": "execute_result"
    }
   ],
   "source": [
    "#mostrando as dimensões do dataset\n",
    "df_consultas.shape"
   ]
  },
  {
   "cell_type": "code",
   "execution_count": 8,
   "metadata": {
    "id": "ekhL7jp4QzzF"
   },
   "outputs": [
    {
     "name": "stdout",
     "output_type": "stream",
     "text": [
      "<class 'pandas.core.frame.DataFrame'>\n",
      "RangeIndex: 110527 entries, 0 to 110526\n",
      "Data columns (total 14 columns):\n",
      " #   Column          Non-Null Count   Dtype  \n",
      "---  ------          --------------   -----  \n",
      " 0   PatientId       110527 non-null  float64\n",
      " 1   AppointmentID   110527 non-null  int64  \n",
      " 2   Gender          110527 non-null  object \n",
      " 3   ScheduledDay    110527 non-null  object \n",
      " 4   AppointmentDay  110527 non-null  object \n",
      " 5   Age             110527 non-null  int64  \n",
      " 6   Neighbourhood   110527 non-null  object \n",
      " 7   Scholarship     110527 non-null  int64  \n",
      " 8   Hipertension    110527 non-null  int64  \n",
      " 9   Diabetes        110527 non-null  int64  \n",
      " 10  Alcoholism      110527 non-null  int64  \n",
      " 11  Handcap         110527 non-null  int64  \n",
      " 12  SMS_received    110527 non-null  int64  \n",
      " 13  No-show         110527 non-null  object \n",
      "dtypes: float64(1), int64(8), object(5)\n",
      "memory usage: 11.8+ MB\n"
     ]
    }
   ],
   "source": [
    "#mostrando as \"características\" das colunas\n",
    "df_consultas.info()"
   ]
  },
  {
   "cell_type": "markdown",
   "metadata": {
    "id": "XUQfrD74U-P6"
   },
   "source": [
    "**Existem valores nulos?**"
   ]
  },
  {
   "cell_type": "code",
   "execution_count": 9,
   "metadata": {
    "id": "lKOaS6BcQz1e"
   },
   "outputs": [
    {
     "data": {
      "text/plain": [
       "PatientId         0\n",
       "AppointmentID     0\n",
       "Gender            0\n",
       "ScheduledDay      0\n",
       "AppointmentDay    0\n",
       "Age               0\n",
       "Neighbourhood     0\n",
       "Scholarship       0\n",
       "Hipertension      0\n",
       "Diabetes          0\n",
       "Alcoholism        0\n",
       "Handcap           0\n",
       "SMS_received      0\n",
       "No-show           0\n",
       "dtype: int64"
      ]
     },
     "execution_count": 9,
     "metadata": {},
     "output_type": "execute_result"
    }
   ],
   "source": [
    "#contando a quantidade de valores nulos\n",
    "teste4"
   ]
  },
  {
   "cell_type": "code",
   "execution_count": 10,
   "metadata": {
    "id": "D2ZWAz8zpaws"
   },
   "outputs": [
    {
     "data": {
      "text/plain": [
       "No     88208\n",
       "Yes    22319\n",
       "Name: No-show, dtype: int64"
      ]
     },
     "execution_count": 10,
     "metadata": {},
     "output_type": "execute_result"
    }
   ],
   "source": [
    "df_consultas['No-show'].value_counts()#['Yes'] # Yes o paciente não compareceu / No o paciente compareceu"
   ]
  },
  {
   "cell_type": "code",
   "execution_count": 11,
   "metadata": {
    "id": "Lnzmmz4jNluf"
   },
   "outputs": [
    {
     "data": {
      "text/plain": [
       "0    75045\n",
       "1    35482\n",
       "Name: SMS_received, dtype: int64"
      ]
     },
     "execution_count": 11,
     "metadata": {},
     "output_type": "execute_result"
    }
   ],
   "source": [
    "df_consultas['SMS_received'].value_counts() # 0 o paciente não reccebeu / 1 o paciente recebeu"
   ]
  },
  {
   "cell_type": "code",
   "execution_count": 12,
   "metadata": {
    "id": "mye_w8pVBm_z"
   },
   "outputs": [
    {
     "data": {
      "text/plain": [
       "0.798067440534892"
      ]
     },
     "execution_count": 12,
     "metadata": {},
     "output_type": "execute_result"
    }
   ],
   "source": [
    "df_consultas['No-show'].value_counts()['No']/len(df_consultas)"
   ]
  },
  {
   "cell_type": "code",
   "execution_count": 13,
   "metadata": {
    "id": "E9Mt5JvmSX7N"
   },
   "outputs": [
    {
     "data": {
      "text/plain": [
       "110527"
      ]
     },
     "execution_count": 13,
     "metadata": {},
     "output_type": "execute_result"
    }
   ],
   "source": [
    "len(df_consultas['No-show'])"
   ]
  },
  {
   "cell_type": "code",
   "execution_count": 14,
   "metadata": {
    "id": "-nDYvwDfKYO9"
   },
   "outputs": [
    {
     "data": {
      "text/plain": [
       "88208"
      ]
     },
     "execution_count": 14,
     "metadata": {},
     "output_type": "execute_result"
    }
   ],
   "source": [
    "df_consultas['No-show'].value_counts()['No']"
   ]
  },
  {
   "cell_type": "markdown",
   "metadata": {
    "id": "Fblo03b6VDcw"
   },
   "source": [
    "**Qual é a idade média dos pacientes?**"
   ]
  },
  {
   "cell_type": "code",
   "execution_count": 15,
   "metadata": {
    "id": "22e1rBC8Qz3v"
   },
   "outputs": [
    {
     "data": {
      "text/html": [
       "<div>\n",
       "<style scoped>\n",
       "    .dataframe tbody tr th:only-of-type {\n",
       "        vertical-align: middle;\n",
       "    }\n",
       "\n",
       "    .dataframe tbody tr th {\n",
       "        vertical-align: top;\n",
       "    }\n",
       "\n",
       "    .dataframe thead th {\n",
       "        text-align: right;\n",
       "    }\n",
       "</style>\n",
       "<table border=\"1\" class=\"dataframe\">\n",
       "  <thead>\n",
       "    <tr style=\"text-align: right;\">\n",
       "      <th></th>\n",
       "      <th>PatientId</th>\n",
       "      <th>AppointmentID</th>\n",
       "      <th>Age</th>\n",
       "      <th>Scholarship</th>\n",
       "      <th>Hipertension</th>\n",
       "      <th>Diabetes</th>\n",
       "      <th>Alcoholism</th>\n",
       "      <th>Handcap</th>\n",
       "      <th>SMS_received</th>\n",
       "    </tr>\n",
       "  </thead>\n",
       "  <tbody>\n",
       "    <tr>\n",
       "      <th>count</th>\n",
       "      <td>1.105270e+05</td>\n",
       "      <td>1.105270e+05</td>\n",
       "      <td>110527.000000</td>\n",
       "      <td>110527.000000</td>\n",
       "      <td>110527.000000</td>\n",
       "      <td>110527.000000</td>\n",
       "      <td>110527.000000</td>\n",
       "      <td>110527.000000</td>\n",
       "      <td>110527.000000</td>\n",
       "    </tr>\n",
       "    <tr>\n",
       "      <th>mean</th>\n",
       "      <td>1.474963e+14</td>\n",
       "      <td>5.675305e+06</td>\n",
       "      <td>37.088874</td>\n",
       "      <td>0.098266</td>\n",
       "      <td>0.197246</td>\n",
       "      <td>0.071865</td>\n",
       "      <td>0.030400</td>\n",
       "      <td>0.022248</td>\n",
       "      <td>0.321026</td>\n",
       "    </tr>\n",
       "    <tr>\n",
       "      <th>std</th>\n",
       "      <td>2.560949e+14</td>\n",
       "      <td>7.129575e+04</td>\n",
       "      <td>23.110205</td>\n",
       "      <td>0.297675</td>\n",
       "      <td>0.397921</td>\n",
       "      <td>0.258265</td>\n",
       "      <td>0.171686</td>\n",
       "      <td>0.161543</td>\n",
       "      <td>0.466873</td>\n",
       "    </tr>\n",
       "    <tr>\n",
       "      <th>min</th>\n",
       "      <td>3.921784e+04</td>\n",
       "      <td>5.030230e+06</td>\n",
       "      <td>-1.000000</td>\n",
       "      <td>0.000000</td>\n",
       "      <td>0.000000</td>\n",
       "      <td>0.000000</td>\n",
       "      <td>0.000000</td>\n",
       "      <td>0.000000</td>\n",
       "      <td>0.000000</td>\n",
       "    </tr>\n",
       "    <tr>\n",
       "      <th>25%</th>\n",
       "      <td>4.172614e+12</td>\n",
       "      <td>5.640286e+06</td>\n",
       "      <td>18.000000</td>\n",
       "      <td>0.000000</td>\n",
       "      <td>0.000000</td>\n",
       "      <td>0.000000</td>\n",
       "      <td>0.000000</td>\n",
       "      <td>0.000000</td>\n",
       "      <td>0.000000</td>\n",
       "    </tr>\n",
       "    <tr>\n",
       "      <th>50%</th>\n",
       "      <td>3.173184e+13</td>\n",
       "      <td>5.680573e+06</td>\n",
       "      <td>37.000000</td>\n",
       "      <td>0.000000</td>\n",
       "      <td>0.000000</td>\n",
       "      <td>0.000000</td>\n",
       "      <td>0.000000</td>\n",
       "      <td>0.000000</td>\n",
       "      <td>0.000000</td>\n",
       "    </tr>\n",
       "    <tr>\n",
       "      <th>75%</th>\n",
       "      <td>9.439172e+13</td>\n",
       "      <td>5.725524e+06</td>\n",
       "      <td>55.000000</td>\n",
       "      <td>0.000000</td>\n",
       "      <td>0.000000</td>\n",
       "      <td>0.000000</td>\n",
       "      <td>0.000000</td>\n",
       "      <td>0.000000</td>\n",
       "      <td>1.000000</td>\n",
       "    </tr>\n",
       "    <tr>\n",
       "      <th>max</th>\n",
       "      <td>9.999816e+14</td>\n",
       "      <td>5.790484e+06</td>\n",
       "      <td>115.000000</td>\n",
       "      <td>1.000000</td>\n",
       "      <td>1.000000</td>\n",
       "      <td>1.000000</td>\n",
       "      <td>1.000000</td>\n",
       "      <td>4.000000</td>\n",
       "      <td>1.000000</td>\n",
       "    </tr>\n",
       "  </tbody>\n",
       "</table>\n",
       "</div>"
      ],
      "text/plain": [
       "          PatientId  AppointmentID            Age    Scholarship  \\\n",
       "count  1.105270e+05   1.105270e+05  110527.000000  110527.000000   \n",
       "mean   1.474963e+14   5.675305e+06      37.088874       0.098266   \n",
       "std    2.560949e+14   7.129575e+04      23.110205       0.297675   \n",
       "min    3.921784e+04   5.030230e+06      -1.000000       0.000000   \n",
       "25%    4.172614e+12   5.640286e+06      18.000000       0.000000   \n",
       "50%    3.173184e+13   5.680573e+06      37.000000       0.000000   \n",
       "75%    9.439172e+13   5.725524e+06      55.000000       0.000000   \n",
       "max    9.999816e+14   5.790484e+06     115.000000       1.000000   \n",
       "\n",
       "        Hipertension       Diabetes     Alcoholism        Handcap  \\\n",
       "count  110527.000000  110527.000000  110527.000000  110527.000000   \n",
       "mean        0.197246       0.071865       0.030400       0.022248   \n",
       "std         0.397921       0.258265       0.171686       0.161543   \n",
       "min         0.000000       0.000000       0.000000       0.000000   \n",
       "25%         0.000000       0.000000       0.000000       0.000000   \n",
       "50%         0.000000       0.000000       0.000000       0.000000   \n",
       "75%         0.000000       0.000000       0.000000       0.000000   \n",
       "max         1.000000       1.000000       1.000000       4.000000   \n",
       "\n",
       "        SMS_received  \n",
       "count  110527.000000  \n",
       "mean        0.321026  \n",
       "std         0.466873  \n",
       "min         0.000000  \n",
       "25%         0.000000  \n",
       "50%         0.000000  \n",
       "75%         1.000000  \n",
       "max         1.000000  "
      ]
     },
     "execution_count": 15,
     "metadata": {},
     "output_type": "execute_result"
    }
   ],
   "source": [
    "#analisando as \"estatísticas do dataset\"\n",
    "df_consultas.describe()"
   ]
  },
  {
   "cell_type": "markdown",
   "metadata": {
    "id": "JnJfL4-DVLR-"
   },
   "source": [
    "**Em quantas localidades diferentes (Neighbourhood) os pacientes residem?**"
   ]
  },
  {
   "cell_type": "markdown",
   "metadata": {
    "id": "iq2dTj5wVjnN"
   },
   "source": [
    "**Comparando a identificação do paciente (PatientId) com o número dos agendamentos das consultas (AppointmentID) o que podemos inferir?**"
   ]
  },
  {
   "cell_type": "markdown",
   "metadata": {
    "id": "ftVBVk8eWg9I"
   },
   "source": [
    "**Quantas variáveis binárias (apenas dois valores) existem no dataset?**"
   ]
  },
  {
   "cell_type": "code",
   "execution_count": 16,
   "metadata": {
    "id": "iR_inFPSQz6H"
   },
   "outputs": [
    {
     "name": "stdout",
     "output_type": "stream",
     "text": [
      "PatientId                 62299\n",
      "AppointmentID             110527\n",
      "Gender                    2\n",
      "ScheduledDay              103549\n",
      "AppointmentDay            27\n",
      "Age                       104\n",
      "Neighbourhood             81\n",
      "Scholarship               2\n",
      "Hipertension              2\n",
      "Diabetes                  2\n",
      "Alcoholism                2\n",
      "Handcap                   5\n",
      "SMS_received              2\n",
      "No-show                   2\n"
     ]
    }
   ],
   "source": [
    "#contando a quantidade de valores distintos em cada uma das colunas\n",
    "for colunas in list(df_consultas.columns):\n",
    "  print( \"{0:25} {1}\".format(colunas, df_consultas[colunas].nunique()) )"
   ]
  },
  {
   "cell_type": "code",
   "execution_count": 17,
   "metadata": {
    "id": "QRq7Q_ktabJ7"
   },
   "outputs": [
    {
     "data": {
      "text/plain": [
       "array([ 62,  56,   8,  76,  23,  39,  21,  19,  30,  29,  22,  28,  54,\n",
       "        15,  50,  40,  46,   4,  13,  65,  45,  51,  32,  12,  61,  38,\n",
       "        79,  18,  63,  64,  85,  59,  55,  71,  49,  78,  31,  58,  27,\n",
       "         6,   2,  11,   7,   0,   3,   1,  69,  68,  60,  67,  36,  10,\n",
       "        35,  20,  26,  34,  33,  16,  42,   5,  47,  17,  41,  44,  37,\n",
       "        24,  66,  77,  81,  70,  53,  75,  73,  52,  74,  43,  89,  57,\n",
       "        14,   9,  48,  83,  72,  25,  80,  87,  88,  84,  82,  90,  94,\n",
       "        86,  91,  98,  92,  96,  93,  95,  97, 102, 115, 100,  99,  -1],\n",
       "      dtype=int64)"
      ]
     },
     "execution_count": 17,
     "metadata": {},
     "output_type": "execute_result"
    }
   ],
   "source": [
    "#contando quantas idades diferentes existem no df\n",
    "df_consultas['Age'].unique()"
   ]
  },
  {
   "cell_type": "code",
   "execution_count": 18,
   "metadata": {
    "id": "my4mZQH8Qz8Q"
   },
   "outputs": [
    {
     "data": {
      "text/plain": [
       "<AxesSubplot:>"
      ]
     },
     "execution_count": 18,
     "metadata": {},
     "output_type": "execute_result"
    },
    {
     "data": {
      "image/png": "[encoded data removed]",
      "text/plain": [
       "<Figure size 640x480 with 1 Axes>"
      ]
     },
     "metadata": {},
     "output_type": "display_data"
    }
   ],
   "source": [
    "#plotando o histograma de algumas variáveis \n",
    "df_consultas['Age'].hist(bins=30)#len(df_consultas['Age'].unique()))"
   ]
  },
  {
   "cell_type": "code",
   "execution_count": 19,
   "metadata": {
    "id": "MKuw0zNSg4Wp"
   },
   "outputs": [
    {
     "data": {
      "text/plain": [
       "<AxesSubplot:>"
      ]
     },
     "execution_count": 19,
     "metadata": {},
     "output_type": "execute_result"
    },
    {
     "data": {
      "image/png": "[encoded data removed]",
      "text/plain": [
       "<Figure size 640x480 with 1 Axes>"
      ]
     },
     "metadata": {},
     "output_type": "display_data"
    }
   ],
   "source": [
    "df_consultas['SMS_received'].hist(bins=len(df_consultas['SMS_received'].unique()))"
   ]
  },
  {
   "cell_type": "markdown",
   "metadata": {
    "id": "HeWujt-_hKCx"
   },
   "source": [
    "**Quantos valores diferentes encontramos para a vairável dos SMS recebidos (SMS_received)?**"
   ]
  },
  {
   "cell_type": "code",
   "execution_count": 20,
   "metadata": {
    "id": "7oLTbyKChAdg"
   },
   "outputs": [
    {
     "data": {
      "text/plain": [
       "array([0, 1], dtype=int64)"
      ]
     },
     "execution_count": 20,
     "metadata": {},
     "output_type": "execute_result"
    }
   ],
   "source": [
    "df_consultas['SMS_received'].unique()"
   ]
  },
  {
   "cell_type": "code",
   "execution_count": 21,
   "metadata": {
    "id": "r5Zda_R2ayaA"
   },
   "outputs": [],
   "source": [
    "#criando uma nova coluna -> Tempo de espera (diferença entre a data em que a consulta foi agendada e o dia da consulta)\n",
    "df_consultas.ScheduledDay=pd.to_datetime(df_consultas.ScheduledDay)  #transformando as colunas par o tipo datetime"
   ]
  },
  {
   "cell_type": "code",
   "execution_count": 22,
   "metadata": {
    "id": "u5hCODWjxILE"
   },
   "outputs": [],
   "source": [
    "df_consultas.AppointmentDay=pd.to_datetime(df_consultas['AppointmentDay'],utc=True)"
   ]
  },
  {
   "cell_type": "code",
   "execution_count": 23,
   "metadata": {
    "id": "yWizymnPkXDc"
   },
   "outputs": [
    {
     "name": "stdout",
     "output_type": "stream",
     "text": [
      "<class 'pandas.core.frame.DataFrame'>\n",
      "RangeIndex: 110527 entries, 0 to 110526\n",
      "Data columns (total 14 columns):\n",
      " #   Column          Non-Null Count   Dtype              \n",
      "---  ------          --------------   -----              \n",
      " 0   PatientId       110527 non-null  float64            \n",
      " 1   AppointmentID   110527 non-null  int64              \n",
      " 2   Gender          110527 non-null  object             \n",
      " 3   ScheduledDay    110527 non-null  datetime64[ns, UTC]\n",
      " 4   AppointmentDay  110527 non-null  datetime64[ns, UTC]\n",
      " 5   Age             110527 non-null  int64              \n",
      " 6   Neighbourhood   110527 non-null  object             \n",
      " 7   Scholarship     110527 non-null  int64              \n",
      " 8   Hipertension    110527 non-null  int64              \n",
      " 9   Diabetes        110527 non-null  int64              \n",
      " 10  Alcoholism      110527 non-null  int64              \n",
      " 11  Handcap         110527 non-null  int64              \n",
      " 12  SMS_received    110527 non-null  int64              \n",
      " 13  No-show         110527 non-null  object             \n",
      "dtypes: datetime64[ns, UTC](2), float64(1), int64(8), object(3)\n",
      "memory usage: 11.8+ MB\n"
     ]
    }
   ],
   "source": [
    "df_consultas.info()"
   ]
  },
  {
   "cell_type": "code",
   "execution_count": 24,
   "metadata": {
    "id": "r8y6g7Xfc6Eq"
   },
   "outputs": [],
   "source": [
    "#Encontra a diferença entre o momento da marcação da consulta e o dia da consulta\n",
    "tempo_espera=df_consultas.ScheduledDay-df_consultas.AppointmentDay"
   ]
  },
  {
   "cell_type": "code",
   "execution_count": 25,
   "metadata": {
    "id": "UPsqF3w8gAdh"
   },
   "outputs": [
    {
     "data": {
      "text/plain": [
       "0     0 days 18:38:08\n",
       "1     0 days 16:08:27\n",
       "2     0 days 16:19:04\n",
       "3     0 days 17:29:31\n",
       "4     0 days 16:07:23\n",
       "5   -2 days +08:36:51\n",
       "6   -2 days +15:05:12\n",
       "7   -2 days +15:39:58\n",
       "8     0 days 08:02:16\n",
       "9   -2 days +12:48:25\n",
       "dtype: timedelta64[ns]"
      ]
     },
     "execution_count": 25,
     "metadata": {},
     "output_type": "execute_result"
    }
   ],
   "source": [
    "tempo_espera[:10]"
   ]
  },
  {
   "cell_type": "code",
   "execution_count": 26,
   "metadata": {
    "id": "e9A1l3pvU4yM"
   },
   "outputs": [],
   "source": [
    "def retorna_dias(x):\n",
    "\n",
    "  return x.days"
   ]
  },
  {
   "cell_type": "code",
   "execution_count": 27,
   "metadata": {
    "id": "YBg1SeKnffVk"
   },
   "outputs": [],
   "source": [
    "#df_consultas['AwaitingTime']=tempo_espera.apply(retorna_dias) #transforma os valores em dias \n",
    "df_consultas['AwaitingTime']=tempo_espera.apply(lambda x: x.days) #transforma os valores em dias "
   ]
  },
  {
   "cell_type": "code",
   "execution_count": 28,
   "metadata": {
    "id": "6x9wyAc6dnJ-"
   },
   "outputs": [
    {
     "data": {
      "text/html": [
       "<div>\n",
       "<style scoped>\n",
       "    .dataframe tbody tr th:only-of-type {\n",
       "        vertical-align: middle;\n",
       "    }\n",
       "\n",
       "    .dataframe tbody tr th {\n",
       "        vertical-align: top;\n",
       "    }\n",
       "\n",
       "    .dataframe thead th {\n",
       "        text-align: right;\n",
       "    }\n",
       "</style>\n",
       "<table border=\"1\" class=\"dataframe\">\n",
       "  <thead>\n",
       "    <tr style=\"text-align: right;\">\n",
       "      <th></th>\n",
       "      <th>PatientId</th>\n",
       "      <th>AppointmentID</th>\n",
       "      <th>Gender</th>\n",
       "      <th>ScheduledDay</th>\n",
       "      <th>AppointmentDay</th>\n",
       "      <th>Age</th>\n",
       "      <th>Neighbourhood</th>\n",
       "      <th>Scholarship</th>\n",
       "      <th>Hipertension</th>\n",
       "      <th>Diabetes</th>\n",
       "      <th>Alcoholism</th>\n",
       "      <th>Handcap</th>\n",
       "      <th>SMS_received</th>\n",
       "      <th>No-show</th>\n",
       "      <th>AwaitingTime</th>\n",
       "    </tr>\n",
       "  </thead>\n",
       "  <tbody>\n",
       "    <tr>\n",
       "      <th>0</th>\n",
       "      <td>2.987250e+13</td>\n",
       "      <td>5642903</td>\n",
       "      <td>F</td>\n",
       "      <td>2016-04-29 18:38:08+00:00</td>\n",
       "      <td>2016-04-29 00:00:00+00:00</td>\n",
       "      <td>62</td>\n",
       "      <td>JARDIM DA PENHA</td>\n",
       "      <td>0</td>\n",
       "      <td>1</td>\n",
       "      <td>0</td>\n",
       "      <td>0</td>\n",
       "      <td>0</td>\n",
       "      <td>0</td>\n",
       "      <td>No</td>\n",
       "      <td>0</td>\n",
       "    </tr>\n",
       "    <tr>\n",
       "      <th>1</th>\n",
       "      <td>5.589978e+14</td>\n",
       "      <td>5642503</td>\n",
       "      <td>M</td>\n",
       "      <td>2016-04-29 16:08:27+00:00</td>\n",
       "      <td>2016-04-29 00:00:00+00:00</td>\n",
       "      <td>56</td>\n",
       "      <td>JARDIM DA PENHA</td>\n",
       "      <td>0</td>\n",
       "      <td>0</td>\n",
       "      <td>0</td>\n",
       "      <td>0</td>\n",
       "      <td>0</td>\n",
       "      <td>0</td>\n",
       "      <td>No</td>\n",
       "      <td>0</td>\n",
       "    </tr>\n",
       "    <tr>\n",
       "      <th>2</th>\n",
       "      <td>4.262962e+12</td>\n",
       "      <td>5642549</td>\n",
       "      <td>F</td>\n",
       "      <td>2016-04-29 16:19:04+00:00</td>\n",
       "      <td>2016-04-29 00:00:00+00:00</td>\n",
       "      <td>62</td>\n",
       "      <td>MATA DA PRAIA</td>\n",
       "      <td>0</td>\n",
       "      <td>0</td>\n",
       "      <td>0</td>\n",
       "      <td>0</td>\n",
       "      <td>0</td>\n",
       "      <td>0</td>\n",
       "      <td>No</td>\n",
       "      <td>0</td>\n",
       "    </tr>\n",
       "    <tr>\n",
       "      <th>3</th>\n",
       "      <td>8.679512e+11</td>\n",
       "      <td>5642828</td>\n",
       "      <td>F</td>\n",
       "      <td>2016-04-29 17:29:31+00:00</td>\n",
       "      <td>2016-04-29 00:00:00+00:00</td>\n",
       "      <td>8</td>\n",
       "      <td>PONTAL DE CAMBURI</td>\n",
       "      <td>0</td>\n",
       "      <td>0</td>\n",
       "      <td>0</td>\n",
       "      <td>0</td>\n",
       "      <td>0</td>\n",
       "      <td>0</td>\n",
       "      <td>No</td>\n",
       "      <td>0</td>\n",
       "    </tr>\n",
       "    <tr>\n",
       "      <th>4</th>\n",
       "      <td>8.841186e+12</td>\n",
       "      <td>5642494</td>\n",
       "      <td>F</td>\n",
       "      <td>2016-04-29 16:07:23+00:00</td>\n",
       "      <td>2016-04-29 00:00:00+00:00</td>\n",
       "      <td>56</td>\n",
       "      <td>JARDIM DA PENHA</td>\n",
       "      <td>0</td>\n",
       "      <td>1</td>\n",
       "      <td>1</td>\n",
       "      <td>0</td>\n",
       "      <td>0</td>\n",
       "      <td>0</td>\n",
       "      <td>No</td>\n",
       "      <td>0</td>\n",
       "    </tr>\n",
       "    <tr>\n",
       "      <th>5</th>\n",
       "      <td>9.598513e+13</td>\n",
       "      <td>5626772</td>\n",
       "      <td>F</td>\n",
       "      <td>2016-04-27 08:36:51+00:00</td>\n",
       "      <td>2016-04-29 00:00:00+00:00</td>\n",
       "      <td>76</td>\n",
       "      <td>REPÚBLICA</td>\n",
       "      <td>0</td>\n",
       "      <td>1</td>\n",
       "      <td>0</td>\n",
       "      <td>0</td>\n",
       "      <td>0</td>\n",
       "      <td>0</td>\n",
       "      <td>No</td>\n",
       "      <td>-2</td>\n",
       "    </tr>\n",
       "    <tr>\n",
       "      <th>6</th>\n",
       "      <td>7.336882e+14</td>\n",
       "      <td>5630279</td>\n",
       "      <td>F</td>\n",
       "      <td>2016-04-27 15:05:12+00:00</td>\n",
       "      <td>2016-04-29 00:00:00+00:00</td>\n",
       "      <td>23</td>\n",
       "      <td>GOIABEIRAS</td>\n",
       "      <td>0</td>\n",
       "      <td>0</td>\n",
       "      <td>0</td>\n",
       "      <td>0</td>\n",
       "      <td>0</td>\n",
       "      <td>0</td>\n",
       "      <td>Yes</td>\n",
       "      <td>-2</td>\n",
       "    </tr>\n",
       "    <tr>\n",
       "      <th>7</th>\n",
       "      <td>3.449833e+12</td>\n",
       "      <td>5630575</td>\n",
       "      <td>F</td>\n",
       "      <td>2016-04-27 15:39:58+00:00</td>\n",
       "      <td>2016-04-29 00:00:00+00:00</td>\n",
       "      <td>39</td>\n",
       "      <td>GOIABEIRAS</td>\n",
       "      <td>0</td>\n",
       "      <td>0</td>\n",
       "      <td>0</td>\n",
       "      <td>0</td>\n",
       "      <td>0</td>\n",
       "      <td>0</td>\n",
       "      <td>Yes</td>\n",
       "      <td>-2</td>\n",
       "    </tr>\n",
       "  </tbody>\n",
       "</table>\n",
       "</div>"
      ],
      "text/plain": [
       "      PatientId  AppointmentID Gender              ScheduledDay  \\\n",
       "0  2.987250e+13        5642903      F 2016-04-29 18:38:08+00:00   \n",
       "1  5.589978e+14        5642503      M 2016-04-29 16:08:27+00:00   \n",
       "2  4.262962e+12        5642549      F 2016-04-29 16:19:04+00:00   \n",
       "3  8.679512e+11        5642828      F 2016-04-29 17:29:31+00:00   \n",
       "4  8.841186e+12        5642494      F 2016-04-29 16:07:23+00:00   \n",
       "5  9.598513e+13        5626772      F 2016-04-27 08:36:51+00:00   \n",
       "6  7.336882e+14        5630279      F 2016-04-27 15:05:12+00:00   \n",
       "7  3.449833e+12        5630575      F 2016-04-27 15:39:58+00:00   \n",
       "\n",
       "             AppointmentDay  Age      Neighbourhood  Scholarship  \\\n",
       "0 2016-04-29 00:00:00+00:00   62    JARDIM DA PENHA            0   \n",
       "1 2016-04-29 00:00:00+00:00   56    JARDIM DA PENHA            0   \n",
       "2 2016-04-29 00:00:00+00:00   62      MATA DA PRAIA            0   \n",
       "3 2016-04-29 00:00:00+00:00    8  PONTAL DE CAMBURI            0   \n",
       "4 2016-04-29 00:00:00+00:00   56    JARDIM DA PENHA            0   \n",
       "5 2016-04-29 00:00:00+00:00   76          REPÚBLICA            0   \n",
       "6 2016-04-29 00:00:00+00:00   23         GOIABEIRAS            0   \n",
       "7 2016-04-29 00:00:00+00:00   39         GOIABEIRAS            0   \n",
       "\n",
       "   Hipertension  Diabetes  Alcoholism  Handcap  SMS_received No-show  \\\n",
       "0             1         0           0        0             0      No   \n",
       "1             0         0           0        0             0      No   \n",
       "2             0         0           0        0             0      No   \n",
       "3             0         0           0        0             0      No   \n",
       "4             1         1           0        0             0      No   \n",
       "5             1         0           0        0             0      No   \n",
       "6             0         0           0        0             0     Yes   \n",
       "7             0         0           0        0             0     Yes   \n",
       "\n",
       "   AwaitingTime  \n",
       "0             0  \n",
       "1             0  \n",
       "2             0  \n",
       "3             0  \n",
       "4             0  \n",
       "5            -2  \n",
       "6            -2  \n",
       "7            -2  "
      ]
     },
     "execution_count": 28,
     "metadata": {},
     "output_type": "execute_result"
    }
   ],
   "source": [
    "df_consultas.head(8)"
   ]
  },
  {
   "cell_type": "markdown",
   "metadata": {
    "id": "_8cVcpCvhw5y"
   },
   "source": [
    "**Iniciando o tratamento dos dados**"
   ]
  },
  {
   "cell_type": "markdown",
   "metadata": {
    "id": "cPpMJPRih1qw"
   },
   "source": [
    "**Qual é a menor e maior idade, respectivamente, presente no dataset?**"
   ]
  },
  {
   "cell_type": "code",
   "execution_count": 29,
   "metadata": {
    "colab": {
     "base_uri": "https://localhost:8080/",
     "height": 165
    },
    "id": "ScjAUNR0eDjE",
    "outputId": "b7619740-e54b-4e03-ed60-c1a1f9d55ce5"
   },
   "outputs": [
    {
     "name": "stdout",
     "output_type": "stream",
     "text": [
      "<class 'pandas.core.frame.DataFrame'>\n",
      "RangeIndex: 110527 entries, 0 to 110526\n",
      "Data columns (total 15 columns):\n",
      " #   Column          Non-Null Count   Dtype              \n",
      "---  ------          --------------   -----              \n",
      " 0   PatientId       110527 non-null  float64            \n",
      " 1   AppointmentID   110527 non-null  int64              \n",
      " 2   Gender          110527 non-null  object             \n",
      " 3   ScheduledDay    110527 non-null  datetime64[ns, UTC]\n",
      " 4   AppointmentDay  110527 non-null  datetime64[ns, UTC]\n",
      " 5   Age             110527 non-null  int64              \n",
      " 6   Neighbourhood   110527 non-null  object             \n",
      " 7   Scholarship     110527 non-null  int64              \n",
      " 8   Hipertension    110527 non-null  int64              \n",
      " 9   Diabetes        110527 non-null  int64              \n",
      " 10  Alcoholism      110527 non-null  int64              \n",
      " 11  Handcap         110527 non-null  int64              \n",
      " 12  SMS_received    110527 non-null  int64              \n",
      " 13  No-show         110527 non-null  object             \n",
      " 14  AwaitingTime    110527 non-null  int64              \n",
      "dtypes: datetime64[ns, UTC](2), float64(1), int64(9), object(3)\n",
      "memory usage: 12.6+ MB\n"
     ]
    }
   ],
   "source": [
    "df_consultas.info()"
   ]
  },
  {
   "cell_type": "markdown",
   "metadata": {
    "id": "fegPJgxwj3xa"
   },
   "source": [
    "**Quantos valores de idade menores do que 0 existem no dataframe?**"
   ]
  },
  {
   "cell_type": "code",
   "execution_count": 30,
   "metadata": {
    "id": "d9rLFCNugwTs"
   },
   "outputs": [
    {
     "data": {
      "text/plain": [
       "-1    1\n",
       "Name: Age, dtype: int64"
      ]
     },
     "execution_count": 30,
     "metadata": {},
     "output_type": "execute_result"
    }
   ],
   "source": [
    "#Encontrando as idades negativas\n",
    "df_consultas[df_consultas['Age'] < 0]['Age'].value_counts()"
   ]
  },
  {
   "cell_type": "code",
   "execution_count": 31,
   "metadata": {
    "id": "jWm3iapkidmj"
   },
   "outputs": [
    {
     "data": {
      "text/plain": [
       "(110526, 15)"
      ]
     },
     "execution_count": 31,
     "metadata": {},
     "output_type": "execute_result"
    }
   ],
   "source": [
    "#filtrando apenas idades maiores que 0\n",
    "df_consultas_filtrado=df_consultas[df_consultas['Age']>=0]\n",
    "df_consultas_filtrado.shape"
   ]
  },
  {
   "cell_type": "code",
   "execution_count": 32,
   "metadata": {
    "id": "qiUVrzs6kp_y"
   },
   "outputs": [
    {
     "name": "stderr",
     "output_type": "stream",
     "text": [
      "C:\\Users\\Rennan Hecann\\AppData\\Local\\Temp\\ipykernel_17312\\153568736.py:2: SettingWithCopyWarning: \n",
      "A value is trying to be set on a copy of a slice from a DataFrame.\n",
      "Try using .loc[row_indexer,col_indexer] = value instead\n",
      "\n",
      "See the caveats in the documentation: https://pandas.pydata.org/pandas-docs/stable/user_guide/indexing.html#returning-a-view-versus-a-copy\n",
      "  df_consultas_filtrado['AwaitingTime'] = df_consultas_filtrado['AwaitingTime'].apply(lambda x: abs(x))\n"
     ]
    }
   ],
   "source": [
    "#transformando os tempo de espera para um valor não negativo\n",
    "df_consultas_filtrado['AwaitingTime'] = df_consultas_filtrado['AwaitingTime'].apply(lambda x: abs(x))"
   ]
  },
  {
   "cell_type": "code",
   "execution_count": 33,
   "metadata": {
    "id": "vPi-I28TlGgx"
   },
   "outputs": [
    {
     "data": {
      "text/html": [
       "<div>\n",
       "<style scoped>\n",
       "    .dataframe tbody tr th:only-of-type {\n",
       "        vertical-align: middle;\n",
       "    }\n",
       "\n",
       "    .dataframe tbody tr th {\n",
       "        vertical-align: top;\n",
       "    }\n",
       "\n",
       "    .dataframe thead th {\n",
       "        text-align: right;\n",
       "    }\n",
       "</style>\n",
       "<table border=\"1\" class=\"dataframe\">\n",
       "  <thead>\n",
       "    <tr style=\"text-align: right;\">\n",
       "      <th></th>\n",
       "      <th>PatientId</th>\n",
       "      <th>AppointmentID</th>\n",
       "      <th>Gender</th>\n",
       "      <th>ScheduledDay</th>\n",
       "      <th>AppointmentDay</th>\n",
       "      <th>Age</th>\n",
       "      <th>Neighbourhood</th>\n",
       "      <th>Scholarship</th>\n",
       "      <th>Hipertension</th>\n",
       "      <th>Diabetes</th>\n",
       "      <th>Alcoholism</th>\n",
       "      <th>Handcap</th>\n",
       "      <th>SMS_received</th>\n",
       "      <th>No-show</th>\n",
       "      <th>AwaitingTime</th>\n",
       "    </tr>\n",
       "  </thead>\n",
       "  <tbody>\n",
       "    <tr>\n",
       "      <th>0</th>\n",
       "      <td>2.987250e+13</td>\n",
       "      <td>5642903</td>\n",
       "      <td>F</td>\n",
       "      <td>2016-04-29 18:38:08+00:00</td>\n",
       "      <td>2016-04-29 00:00:00+00:00</td>\n",
       "      <td>62</td>\n",
       "      <td>JARDIM DA PENHA</td>\n",
       "      <td>0</td>\n",
       "      <td>1</td>\n",
       "      <td>0</td>\n",
       "      <td>0</td>\n",
       "      <td>0</td>\n",
       "      <td>0</td>\n",
       "      <td>No</td>\n",
       "      <td>0</td>\n",
       "    </tr>\n",
       "    <tr>\n",
       "      <th>1</th>\n",
       "      <td>5.589978e+14</td>\n",
       "      <td>5642503</td>\n",
       "      <td>M</td>\n",
       "      <td>2016-04-29 16:08:27+00:00</td>\n",
       "      <td>2016-04-29 00:00:00+00:00</td>\n",
       "      <td>56</td>\n",
       "      <td>JARDIM DA PENHA</td>\n",
       "      <td>0</td>\n",
       "      <td>0</td>\n",
       "      <td>0</td>\n",
       "      <td>0</td>\n",
       "      <td>0</td>\n",
       "      <td>0</td>\n",
       "      <td>No</td>\n",
       "      <td>0</td>\n",
       "    </tr>\n",
       "    <tr>\n",
       "      <th>2</th>\n",
       "      <td>4.262962e+12</td>\n",
       "      <td>5642549</td>\n",
       "      <td>F</td>\n",
       "      <td>2016-04-29 16:19:04+00:00</td>\n",
       "      <td>2016-04-29 00:00:00+00:00</td>\n",
       "      <td>62</td>\n",
       "      <td>MATA DA PRAIA</td>\n",
       "      <td>0</td>\n",
       "      <td>0</td>\n",
       "      <td>0</td>\n",
       "      <td>0</td>\n",
       "      <td>0</td>\n",
       "      <td>0</td>\n",
       "      <td>No</td>\n",
       "      <td>0</td>\n",
       "    </tr>\n",
       "    <tr>\n",
       "      <th>3</th>\n",
       "      <td>8.679512e+11</td>\n",
       "      <td>5642828</td>\n",
       "      <td>F</td>\n",
       "      <td>2016-04-29 17:29:31+00:00</td>\n",
       "      <td>2016-04-29 00:00:00+00:00</td>\n",
       "      <td>8</td>\n",
       "      <td>PONTAL DE CAMBURI</td>\n",
       "      <td>0</td>\n",
       "      <td>0</td>\n",
       "      <td>0</td>\n",
       "      <td>0</td>\n",
       "      <td>0</td>\n",
       "      <td>0</td>\n",
       "      <td>No</td>\n",
       "      <td>0</td>\n",
       "    </tr>\n",
       "    <tr>\n",
       "      <th>4</th>\n",
       "      <td>8.841186e+12</td>\n",
       "      <td>5642494</td>\n",
       "      <td>F</td>\n",
       "      <td>2016-04-29 16:07:23+00:00</td>\n",
       "      <td>2016-04-29 00:00:00+00:00</td>\n",
       "      <td>56</td>\n",
       "      <td>JARDIM DA PENHA</td>\n",
       "      <td>0</td>\n",
       "      <td>1</td>\n",
       "      <td>1</td>\n",
       "      <td>0</td>\n",
       "      <td>0</td>\n",
       "      <td>0</td>\n",
       "      <td>No</td>\n",
       "      <td>0</td>\n",
       "    </tr>\n",
       "    <tr>\n",
       "      <th>5</th>\n",
       "      <td>9.598513e+13</td>\n",
       "      <td>5626772</td>\n",
       "      <td>F</td>\n",
       "      <td>2016-04-27 08:36:51+00:00</td>\n",
       "      <td>2016-04-29 00:00:00+00:00</td>\n",
       "      <td>76</td>\n",
       "      <td>REPÚBLICA</td>\n",
       "      <td>0</td>\n",
       "      <td>1</td>\n",
       "      <td>0</td>\n",
       "      <td>0</td>\n",
       "      <td>0</td>\n",
       "      <td>0</td>\n",
       "      <td>No</td>\n",
       "      <td>2</td>\n",
       "    </tr>\n",
       "    <tr>\n",
       "      <th>6</th>\n",
       "      <td>7.336882e+14</td>\n",
       "      <td>5630279</td>\n",
       "      <td>F</td>\n",
       "      <td>2016-04-27 15:05:12+00:00</td>\n",
       "      <td>2016-04-29 00:00:00+00:00</td>\n",
       "      <td>23</td>\n",
       "      <td>GOIABEIRAS</td>\n",
       "      <td>0</td>\n",
       "      <td>0</td>\n",
       "      <td>0</td>\n",
       "      <td>0</td>\n",
       "      <td>0</td>\n",
       "      <td>0</td>\n",
       "      <td>Yes</td>\n",
       "      <td>2</td>\n",
       "    </tr>\n",
       "    <tr>\n",
       "      <th>7</th>\n",
       "      <td>3.449833e+12</td>\n",
       "      <td>5630575</td>\n",
       "      <td>F</td>\n",
       "      <td>2016-04-27 15:39:58+00:00</td>\n",
       "      <td>2016-04-29 00:00:00+00:00</td>\n",
       "      <td>39</td>\n",
       "      <td>GOIABEIRAS</td>\n",
       "      <td>0</td>\n",
       "      <td>0</td>\n",
       "      <td>0</td>\n",
       "      <td>0</td>\n",
       "      <td>0</td>\n",
       "      <td>0</td>\n",
       "      <td>Yes</td>\n",
       "      <td>2</td>\n",
       "    </tr>\n",
       "    <tr>\n",
       "      <th>8</th>\n",
       "      <td>5.639473e+13</td>\n",
       "      <td>5638447</td>\n",
       "      <td>F</td>\n",
       "      <td>2016-04-29 08:02:16+00:00</td>\n",
       "      <td>2016-04-29 00:00:00+00:00</td>\n",
       "      <td>21</td>\n",
       "      <td>ANDORINHAS</td>\n",
       "      <td>0</td>\n",
       "      <td>0</td>\n",
       "      <td>0</td>\n",
       "      <td>0</td>\n",
       "      <td>0</td>\n",
       "      <td>0</td>\n",
       "      <td>No</td>\n",
       "      <td>0</td>\n",
       "    </tr>\n",
       "    <tr>\n",
       "      <th>9</th>\n",
       "      <td>7.812456e+13</td>\n",
       "      <td>5629123</td>\n",
       "      <td>F</td>\n",
       "      <td>2016-04-27 12:48:25+00:00</td>\n",
       "      <td>2016-04-29 00:00:00+00:00</td>\n",
       "      <td>19</td>\n",
       "      <td>CONQUISTA</td>\n",
       "      <td>0</td>\n",
       "      <td>0</td>\n",
       "      <td>0</td>\n",
       "      <td>0</td>\n",
       "      <td>0</td>\n",
       "      <td>0</td>\n",
       "      <td>No</td>\n",
       "      <td>2</td>\n",
       "    </tr>\n",
       "  </tbody>\n",
       "</table>\n",
       "</div>"
      ],
      "text/plain": [
       "      PatientId  AppointmentID Gender              ScheduledDay  \\\n",
       "0  2.987250e+13        5642903      F 2016-04-29 18:38:08+00:00   \n",
       "1  5.589978e+14        5642503      M 2016-04-29 16:08:27+00:00   \n",
       "2  4.262962e+12        5642549      F 2016-04-29 16:19:04+00:00   \n",
       "3  8.679512e+11        5642828      F 2016-04-29 17:29:31+00:00   \n",
       "4  8.841186e+12        5642494      F 2016-04-29 16:07:23+00:00   \n",
       "5  9.598513e+13        5626772      F 2016-04-27 08:36:51+00:00   \n",
       "6  7.336882e+14        5630279      F 2016-04-27 15:05:12+00:00   \n",
       "7  3.449833e+12        5630575      F 2016-04-27 15:39:58+00:00   \n",
       "8  5.639473e+13        5638447      F 2016-04-29 08:02:16+00:00   \n",
       "9  7.812456e+13        5629123      F 2016-04-27 12:48:25+00:00   \n",
       "\n",
       "             AppointmentDay  Age      Neighbourhood  Scholarship  \\\n",
       "0 2016-04-29 00:00:00+00:00   62    JARDIM DA PENHA            0   \n",
       "1 2016-04-29 00:00:00+00:00   56    JARDIM DA PENHA            0   \n",
       "2 2016-04-29 00:00:00+00:00   62      MATA DA PRAIA            0   \n",
       "3 2016-04-29 00:00:00+00:00    8  PONTAL DE CAMBURI            0   \n",
       "4 2016-04-29 00:00:00+00:00   56    JARDIM DA PENHA            0   \n",
       "5 2016-04-29 00:00:00+00:00   76          REPÚBLICA            0   \n",
       "6 2016-04-29 00:00:00+00:00   23         GOIABEIRAS            0   \n",
       "7 2016-04-29 00:00:00+00:00   39         GOIABEIRAS            0   \n",
       "8 2016-04-29 00:00:00+00:00   21         ANDORINHAS            0   \n",
       "9 2016-04-29 00:00:00+00:00   19          CONQUISTA            0   \n",
       "\n",
       "   Hipertension  Diabetes  Alcoholism  Handcap  SMS_received No-show  \\\n",
       "0             1         0           0        0             0      No   \n",
       "1             0         0           0        0             0      No   \n",
       "2             0         0           0        0             0      No   \n",
       "3             0         0           0        0             0      No   \n",
       "4             1         1           0        0             0      No   \n",
       "5             1         0           0        0             0      No   \n",
       "6             0         0           0        0             0     Yes   \n",
       "7             0         0           0        0             0     Yes   \n",
       "8             0         0           0        0             0      No   \n",
       "9             0         0           0        0             0      No   \n",
       "\n",
       "   AwaitingTime  \n",
       "0             0  \n",
       "1             0  \n",
       "2             0  \n",
       "3             0  \n",
       "4             0  \n",
       "5             2  \n",
       "6             2  \n",
       "7             2  \n",
       "8             0  \n",
       "9             2  "
      ]
     },
     "execution_count": 33,
     "metadata": {},
     "output_type": "execute_result"
    }
   ],
   "source": [
    "df_consultas_filtrado.head(10)"
   ]
  },
  {
   "cell_type": "code",
   "execution_count": 34,
   "metadata": {
    "id": "MrL6rHz7l37q"
   },
   "outputs": [
    {
     "name": "stderr",
     "output_type": "stream",
     "text": [
      "C:\\Users\\Rennan Hecann\\AppData\\Local\\Temp\\ipykernel_17312\\3215104918.py:4: SettingWithCopyWarning: \n",
      "A value is trying to be set on a copy of a slice from a DataFrame.\n",
      "Try using .loc[row_indexer,col_indexer] = value instead\n",
      "\n",
      "See the caveats in the documentation: https://pandas.pydata.org/pandas-docs/stable/user_guide/indexing.html#returning-a-view-versus-a-copy\n",
      "  df_consultas_filtrado[coluna]=pd.Categorical(df_consultas_filtrado[coluna]).codes\n"
     ]
    }
   ],
   "source": [
    "#aplicando a transformação para os dados categóricos\n",
    "categoricas=['Neighbourhood','Gender','No-show']\n",
    "for coluna in categoricas:\n",
    "    df_consultas_filtrado[coluna]=pd.Categorical(df_consultas_filtrado[coluna]).codes\n"
   ]
  },
  {
   "cell_type": "markdown",
   "metadata": {
    "id": "E8rezcUsnsys"
   },
   "source": [
    "**Qual o tipo de transformação foi utilizada?**"
   ]
  },
  {
   "cell_type": "code",
   "execution_count": 35,
   "metadata": {
    "id": "simTYeVenjJm"
   },
   "outputs": [
    {
     "data": {
      "text/html": [
       "<div>\n",
       "<style scoped>\n",
       "    .dataframe tbody tr th:only-of-type {\n",
       "        vertical-align: middle;\n",
       "    }\n",
       "\n",
       "    .dataframe tbody tr th {\n",
       "        vertical-align: top;\n",
       "    }\n",
       "\n",
       "    .dataframe thead th {\n",
       "        text-align: right;\n",
       "    }\n",
       "</style>\n",
       "<table border=\"1\" class=\"dataframe\">\n",
       "  <thead>\n",
       "    <tr style=\"text-align: right;\">\n",
       "      <th></th>\n",
       "      <th>PatientId</th>\n",
       "      <th>AppointmentID</th>\n",
       "      <th>Gender</th>\n",
       "      <th>ScheduledDay</th>\n",
       "      <th>AppointmentDay</th>\n",
       "      <th>Age</th>\n",
       "      <th>Neighbourhood</th>\n",
       "      <th>Scholarship</th>\n",
       "      <th>Hipertension</th>\n",
       "      <th>Diabetes</th>\n",
       "      <th>Alcoholism</th>\n",
       "      <th>Handcap</th>\n",
       "      <th>SMS_received</th>\n",
       "      <th>No-show</th>\n",
       "      <th>AwaitingTime</th>\n",
       "    </tr>\n",
       "  </thead>\n",
       "  <tbody>\n",
       "    <tr>\n",
       "      <th>0</th>\n",
       "      <td>2.987250e+13</td>\n",
       "      <td>5642903</td>\n",
       "      <td>0</td>\n",
       "      <td>2016-04-29 18:38:08+00:00</td>\n",
       "      <td>2016-04-29 00:00:00+00:00</td>\n",
       "      <td>62</td>\n",
       "      <td>39</td>\n",
       "      <td>0</td>\n",
       "      <td>1</td>\n",
       "      <td>0</td>\n",
       "      <td>0</td>\n",
       "      <td>0</td>\n",
       "      <td>0</td>\n",
       "      <td>0</td>\n",
       "      <td>0</td>\n",
       "    </tr>\n",
       "    <tr>\n",
       "      <th>1</th>\n",
       "      <td>5.589978e+14</td>\n",
       "      <td>5642503</td>\n",
       "      <td>1</td>\n",
       "      <td>2016-04-29 16:08:27+00:00</td>\n",
       "      <td>2016-04-29 00:00:00+00:00</td>\n",
       "      <td>56</td>\n",
       "      <td>39</td>\n",
       "      <td>0</td>\n",
       "      <td>0</td>\n",
       "      <td>0</td>\n",
       "      <td>0</td>\n",
       "      <td>0</td>\n",
       "      <td>0</td>\n",
       "      <td>0</td>\n",
       "      <td>0</td>\n",
       "    </tr>\n",
       "    <tr>\n",
       "      <th>2</th>\n",
       "      <td>4.262962e+12</td>\n",
       "      <td>5642549</td>\n",
       "      <td>0</td>\n",
       "      <td>2016-04-29 16:19:04+00:00</td>\n",
       "      <td>2016-04-29 00:00:00+00:00</td>\n",
       "      <td>62</td>\n",
       "      <td>45</td>\n",
       "      <td>0</td>\n",
       "      <td>0</td>\n",
       "      <td>0</td>\n",
       "      <td>0</td>\n",
       "      <td>0</td>\n",
       "      <td>0</td>\n",
       "      <td>0</td>\n",
       "      <td>0</td>\n",
       "    </tr>\n",
       "    <tr>\n",
       "      <th>3</th>\n",
       "      <td>8.679512e+11</td>\n",
       "      <td>5642828</td>\n",
       "      <td>0</td>\n",
       "      <td>2016-04-29 17:29:31+00:00</td>\n",
       "      <td>2016-04-29 00:00:00+00:00</td>\n",
       "      <td>8</td>\n",
       "      <td>54</td>\n",
       "      <td>0</td>\n",
       "      <td>0</td>\n",
       "      <td>0</td>\n",
       "      <td>0</td>\n",
       "      <td>0</td>\n",
       "      <td>0</td>\n",
       "      <td>0</td>\n",
       "      <td>0</td>\n",
       "    </tr>\n",
       "    <tr>\n",
       "      <th>4</th>\n",
       "      <td>8.841186e+12</td>\n",
       "      <td>5642494</td>\n",
       "      <td>0</td>\n",
       "      <td>2016-04-29 16:07:23+00:00</td>\n",
       "      <td>2016-04-29 00:00:00+00:00</td>\n",
       "      <td>56</td>\n",
       "      <td>39</td>\n",
       "      <td>0</td>\n",
       "      <td>1</td>\n",
       "      <td>1</td>\n",
       "      <td>0</td>\n",
       "      <td>0</td>\n",
       "      <td>0</td>\n",
       "      <td>0</td>\n",
       "      <td>0</td>\n",
       "    </tr>\n",
       "    <tr>\n",
       "      <th>5</th>\n",
       "      <td>9.598513e+13</td>\n",
       "      <td>5626772</td>\n",
       "      <td>0</td>\n",
       "      <td>2016-04-27 08:36:51+00:00</td>\n",
       "      <td>2016-04-29 00:00:00+00:00</td>\n",
       "      <td>76</td>\n",
       "      <td>58</td>\n",
       "      <td>0</td>\n",
       "      <td>1</td>\n",
       "      <td>0</td>\n",
       "      <td>0</td>\n",
       "      <td>0</td>\n",
       "      <td>0</td>\n",
       "      <td>0</td>\n",
       "      <td>2</td>\n",
       "    </tr>\n",
       "    <tr>\n",
       "      <th>6</th>\n",
       "      <td>7.336882e+14</td>\n",
       "      <td>5630279</td>\n",
       "      <td>0</td>\n",
       "      <td>2016-04-27 15:05:12+00:00</td>\n",
       "      <td>2016-04-29 00:00:00+00:00</td>\n",
       "      <td>23</td>\n",
       "      <td>25</td>\n",
       "      <td>0</td>\n",
       "      <td>0</td>\n",
       "      <td>0</td>\n",
       "      <td>0</td>\n",
       "      <td>0</td>\n",
       "      <td>0</td>\n",
       "      <td>1</td>\n",
       "      <td>2</td>\n",
       "    </tr>\n",
       "    <tr>\n",
       "      <th>7</th>\n",
       "      <td>3.449833e+12</td>\n",
       "      <td>5630575</td>\n",
       "      <td>0</td>\n",
       "      <td>2016-04-27 15:39:58+00:00</td>\n",
       "      <td>2016-04-29 00:00:00+00:00</td>\n",
       "      <td>39</td>\n",
       "      <td>25</td>\n",
       "      <td>0</td>\n",
       "      <td>0</td>\n",
       "      <td>0</td>\n",
       "      <td>0</td>\n",
       "      <td>0</td>\n",
       "      <td>0</td>\n",
       "      <td>1</td>\n",
       "      <td>2</td>\n",
       "    </tr>\n",
       "  </tbody>\n",
       "</table>\n",
       "</div>"
      ],
      "text/plain": [
       "      PatientId  AppointmentID  Gender              ScheduledDay  \\\n",
       "0  2.987250e+13        5642903       0 2016-04-29 18:38:08+00:00   \n",
       "1  5.589978e+14        5642503       1 2016-04-29 16:08:27+00:00   \n",
       "2  4.262962e+12        5642549       0 2016-04-29 16:19:04+00:00   \n",
       "3  8.679512e+11        5642828       0 2016-04-29 17:29:31+00:00   \n",
       "4  8.841186e+12        5642494       0 2016-04-29 16:07:23+00:00   \n",
       "5  9.598513e+13        5626772       0 2016-04-27 08:36:51+00:00   \n",
       "6  7.336882e+14        5630279       0 2016-04-27 15:05:12+00:00   \n",
       "7  3.449833e+12        5630575       0 2016-04-27 15:39:58+00:00   \n",
       "\n",
       "             AppointmentDay  Age  Neighbourhood  Scholarship  Hipertension  \\\n",
       "0 2016-04-29 00:00:00+00:00   62             39            0             1   \n",
       "1 2016-04-29 00:00:00+00:00   56             39            0             0   \n",
       "2 2016-04-29 00:00:00+00:00   62             45            0             0   \n",
       "3 2016-04-29 00:00:00+00:00    8             54            0             0   \n",
       "4 2016-04-29 00:00:00+00:00   56             39            0             1   \n",
       "5 2016-04-29 00:00:00+00:00   76             58            0             1   \n",
       "6 2016-04-29 00:00:00+00:00   23             25            0             0   \n",
       "7 2016-04-29 00:00:00+00:00   39             25            0             0   \n",
       "\n",
       "   Diabetes  Alcoholism  Handcap  SMS_received  No-show  AwaitingTime  \n",
       "0         0           0        0             0        0             0  \n",
       "1         0           0        0             0        0             0  \n",
       "2         0           0        0             0        0             0  \n",
       "3         0           0        0             0        0             0  \n",
       "4         1           0        0             0        0             0  \n",
       "5         0           0        0             0        0             2  \n",
       "6         0           0        0             0        1             2  \n",
       "7         0           0        0             0        1             2  "
      ]
     },
     "execution_count": 35,
     "metadata": {},
     "output_type": "execute_result"
    }
   ],
   "source": [
    "df_consultas_filtrado.head(8)"
   ]
  },
  {
   "cell_type": "code",
   "execution_count": 36,
   "metadata": {
    "id": "wD15PJ3Vn3Y6"
   },
   "outputs": [
    {
     "data": {
      "text/plain": [
       "Text(0, 0.5, 'Frequência')"
      ]
     },
     "execution_count": 36,
     "metadata": {},
     "output_type": "execute_result"
    },
    {
     "data": {
      "image/png": "[encoded data removed]",
      "text/plain": [
       "<Figure size 640x480 with 1 Axes>"
      ]
     },
     "metadata": {},
     "output_type": "display_data"
    }
   ],
   "source": [
    "#analisando os SMS enviados e o número de vezes que o paciente compareceu ou não \n",
    "sms_x_comparecer = df_consultas_filtrado.groupby(['SMS_received', 'No-show'])['SMS_received'].count().unstack('No-show').fillna(0)\n",
    "sms_x_comparecer[[0, 1]].plot(kind='bar', stacked=True) \n",
    "plt.title('Analise do número de SMS recebido e se a paciente compareceu ou não à consulta') \n",
    "plt.xlabel('Numero de SMS recebidos') \n",
    "plt.ylabel('Frequência')"
   ]
  },
  {
   "cell_type": "markdown",
   "metadata": {
    "id": "_aavr6TOFmtv"
   },
   "source": [
    "**Qual é a proporção de pacientes que receberam o sms e NÃO compareceram?**"
   ]
  },
  {
   "cell_type": "code",
   "execution_count": 37,
   "metadata": {
    "id": "jyLMIaYSrXyN"
   },
   "outputs": [
    {
     "data": {
      "text/html": [
       "<div>\n",
       "<style scoped>\n",
       "    .dataframe tbody tr th:only-of-type {\n",
       "        vertical-align: middle;\n",
       "    }\n",
       "\n",
       "    .dataframe tbody tr th {\n",
       "        vertical-align: top;\n",
       "    }\n",
       "\n",
       "    .dataframe thead th {\n",
       "        text-align: right;\n",
       "    }\n",
       "</style>\n",
       "<table border=\"1\" class=\"dataframe\">\n",
       "  <thead>\n",
       "    <tr style=\"text-align: right;\">\n",
       "      <th>No-show</th>\n",
       "      <th>0</th>\n",
       "      <th>1</th>\n",
       "    </tr>\n",
       "    <tr>\n",
       "      <th>SMS_received</th>\n",
       "      <th></th>\n",
       "      <th></th>\n",
       "    </tr>\n",
       "  </thead>\n",
       "  <tbody>\n",
       "    <tr>\n",
       "      <th>0</th>\n",
       "      <td>62509</td>\n",
       "      <td>12535</td>\n",
       "    </tr>\n",
       "    <tr>\n",
       "      <th>1</th>\n",
       "      <td>25698</td>\n",
       "      <td>9784</td>\n",
       "    </tr>\n",
       "  </tbody>\n",
       "</table>\n",
       "</div>"
      ],
      "text/plain": [
       "No-show           0      1\n",
       "SMS_received              \n",
       "0             62509  12535\n",
       "1             25698   9784"
      ]
     },
     "execution_count": 37,
     "metadata": {},
     "output_type": "execute_result"
    }
   ],
   "source": [
    "sms_x_comparecer"
   ]
  },
  {
   "cell_type": "markdown",
   "metadata": {
    "id": "YfpMyeMYJbNz"
   },
   "source": [
    "**Qual região possui o maior número de consultas marcadas?**"
   ]
  },
  {
   "cell_type": "code",
   "execution_count": 38,
   "metadata": {
    "id": "3zyTyOiKIfwD"
   },
   "outputs": [
    {
     "data": {
      "image/png": "[encoded data removed]",
      "text/plain": [
       "<Figure size 2200x1000 with 1 Axes>"
      ]
     },
     "metadata": {},
     "output_type": "display_data"
    }
   ],
   "source": [
    "#plotando o número de consultas por região \n",
    "regioes = df_consultas_filtrado['Neighbourhood'].unique()\n",
    "plt.figure(figsize=(22,10))\n",
    "ax = sns.countplot(x='Neighbourhood', data=df_consultas_filtrado, order=regioes)\n",
    "ax.set_xticklabels(ax.get_xticklabels(), rotation=40, ha=\"right\", fontsize=8)\n",
    "plt.title('Consultas por região', fontsize=14, fontweight='bold')\n",
    "plt.show()"
   ]
  },
  {
   "cell_type": "code",
   "execution_count": 39,
   "metadata": {
    "id": "ZXF5pb3eGdvA"
   },
   "outputs": [],
   "source": [
    "#selecionando os dados para a construção da previsão\n",
    "entradas = ['Gender','Age','Neighbourhood','Scholarship','Hipertension','Diabetes','Alcoholism','SMS_received','AwaitingTime']\n",
    "saida=['No-show']"
   ]
  },
  {
   "cell_type": "code",
   "execution_count": 40,
   "metadata": {
    "id": "X7Gd5eZR7sTY"
   },
   "outputs": [
    {
     "data": {
      "text/html": [
       "<div>\n",
       "<style scoped>\n",
       "    .dataframe tbody tr th:only-of-type {\n",
       "        vertical-align: middle;\n",
       "    }\n",
       "\n",
       "    .dataframe tbody tr th {\n",
       "        vertical-align: top;\n",
       "    }\n",
       "\n",
       "    .dataframe thead th {\n",
       "        text-align: right;\n",
       "    }\n",
       "</style>\n",
       "<table border=\"1\" class=\"dataframe\">\n",
       "  <thead>\n",
       "    <tr style=\"text-align: right;\">\n",
       "      <th></th>\n",
       "      <th>PatientId</th>\n",
       "      <th>AppointmentID</th>\n",
       "      <th>Gender</th>\n",
       "      <th>ScheduledDay</th>\n",
       "      <th>AppointmentDay</th>\n",
       "      <th>Age</th>\n",
       "      <th>Neighbourhood</th>\n",
       "      <th>Scholarship</th>\n",
       "      <th>Hipertension</th>\n",
       "      <th>Diabetes</th>\n",
       "      <th>Alcoholism</th>\n",
       "      <th>Handcap</th>\n",
       "      <th>SMS_received</th>\n",
       "      <th>No-show</th>\n",
       "      <th>AwaitingTime</th>\n",
       "    </tr>\n",
       "  </thead>\n",
       "  <tbody>\n",
       "    <tr>\n",
       "      <th>4</th>\n",
       "      <td>8.841186e+12</td>\n",
       "      <td>5642494</td>\n",
       "      <td>0</td>\n",
       "      <td>2016-04-29 16:07:23+00:00</td>\n",
       "      <td>2016-04-29 00:00:00+00:00</td>\n",
       "      <td>56</td>\n",
       "      <td>39</td>\n",
       "      <td>0</td>\n",
       "      <td>1</td>\n",
       "      <td>1</td>\n",
       "      <td>0</td>\n",
       "      <td>0</td>\n",
       "      <td>0</td>\n",
       "      <td>0</td>\n",
       "      <td>0</td>\n",
       "    </tr>\n",
       "    <tr>\n",
       "      <th>36</th>\n",
       "      <td>7.298459e+13</td>\n",
       "      <td>5637975</td>\n",
       "      <td>0</td>\n",
       "      <td>2016-04-29 07:35:19+00:00</td>\n",
       "      <td>2016-04-29 00:00:00+00:00</td>\n",
       "      <td>63</td>\n",
       "      <td>75</td>\n",
       "      <td>0</td>\n",
       "      <td>1</td>\n",
       "      <td>1</td>\n",
       "      <td>0</td>\n",
       "      <td>0</td>\n",
       "      <td>0</td>\n",
       "      <td>0</td>\n",
       "      <td>0</td>\n",
       "    </tr>\n",
       "    <tr>\n",
       "      <th>37</th>\n",
       "      <td>1.578132e+12</td>\n",
       "      <td>5637986</td>\n",
       "      <td>0</td>\n",
       "      <td>2016-04-29 07:35:56+00:00</td>\n",
       "      <td>2016-04-29 00:00:00+00:00</td>\n",
       "      <td>64</td>\n",
       "      <td>78</td>\n",
       "      <td>1</td>\n",
       "      <td>1</td>\n",
       "      <td>1</td>\n",
       "      <td>0</td>\n",
       "      <td>0</td>\n",
       "      <td>0</td>\n",
       "      <td>0</td>\n",
       "      <td>0</td>\n",
       "    </tr>\n",
       "    <tr>\n",
       "      <th>41</th>\n",
       "      <td>8.224325e+14</td>\n",
       "      <td>5633339</td>\n",
       "      <td>0</td>\n",
       "      <td>2016-04-28 09:20:36+00:00</td>\n",
       "      <td>2016-04-29 00:00:00+00:00</td>\n",
       "      <td>71</td>\n",
       "      <td>44</td>\n",
       "      <td>0</td>\n",
       "      <td>0</td>\n",
       "      <td>1</td>\n",
       "      <td>0</td>\n",
       "      <td>0</td>\n",
       "      <td>0</td>\n",
       "      <td>0</td>\n",
       "      <td>1</td>\n",
       "    </tr>\n",
       "    <tr>\n",
       "      <th>44</th>\n",
       "      <td>2.741649e+11</td>\n",
       "      <td>5635414</td>\n",
       "      <td>0</td>\n",
       "      <td>2016-04-28 13:27:27+00:00</td>\n",
       "      <td>2016-04-29 00:00:00+00:00</td>\n",
       "      <td>78</td>\n",
       "      <td>75</td>\n",
       "      <td>0</td>\n",
       "      <td>1</td>\n",
       "      <td>1</td>\n",
       "      <td>0</td>\n",
       "      <td>0</td>\n",
       "      <td>0</td>\n",
       "      <td>1</td>\n",
       "      <td>1</td>\n",
       "    </tr>\n",
       "    <tr>\n",
       "      <th>...</th>\n",
       "      <td>...</td>\n",
       "      <td>...</td>\n",
       "      <td>...</td>\n",
       "      <td>...</td>\n",
       "      <td>...</td>\n",
       "      <td>...</td>\n",
       "      <td>...</td>\n",
       "      <td>...</td>\n",
       "      <td>...</td>\n",
       "      <td>...</td>\n",
       "      <td>...</td>\n",
       "      <td>...</td>\n",
       "      <td>...</td>\n",
       "      <td>...</td>\n",
       "      <td>...</td>\n",
       "    </tr>\n",
       "    <tr>\n",
       "      <th>110448</th>\n",
       "      <td>2.629184e+14</td>\n",
       "      <td>5756082</td>\n",
       "      <td>0</td>\n",
       "      <td>2016-06-01 07:56:41+00:00</td>\n",
       "      <td>2016-06-06 00:00:00+00:00</td>\n",
       "      <td>40</td>\n",
       "      <td>59</td>\n",
       "      <td>0</td>\n",
       "      <td>1</td>\n",
       "      <td>1</td>\n",
       "      <td>0</td>\n",
       "      <td>0</td>\n",
       "      <td>1</td>\n",
       "      <td>0</td>\n",
       "      <td>5</td>\n",
       "    </tr>\n",
       "    <tr>\n",
       "      <th>110456</th>\n",
       "      <td>4.994742e+12</td>\n",
       "      <td>5772107</td>\n",
       "      <td>0</td>\n",
       "      <td>2016-06-03 14:34:46+00:00</td>\n",
       "      <td>2016-06-03 00:00:00+00:00</td>\n",
       "      <td>79</td>\n",
       "      <td>59</td>\n",
       "      <td>0</td>\n",
       "      <td>1</td>\n",
       "      <td>1</td>\n",
       "      <td>0</td>\n",
       "      <td>0</td>\n",
       "      <td>0</td>\n",
       "      <td>0</td>\n",
       "      <td>0</td>\n",
       "    </tr>\n",
       "    <tr>\n",
       "      <th>110468</th>\n",
       "      <td>3.227475e+11</td>\n",
       "      <td>5763322</td>\n",
       "      <td>0</td>\n",
       "      <td>2016-06-02 08:49:21+00:00</td>\n",
       "      <td>2016-06-07 00:00:00+00:00</td>\n",
       "      <td>76</td>\n",
       "      <td>59</td>\n",
       "      <td>0</td>\n",
       "      <td>1</td>\n",
       "      <td>1</td>\n",
       "      <td>0</td>\n",
       "      <td>0</td>\n",
       "      <td>1</td>\n",
       "      <td>0</td>\n",
       "      <td>5</td>\n",
       "    </tr>\n",
       "    <tr>\n",
       "      <th>110477</th>\n",
       "      <td>2.798494e+13</td>\n",
       "      <td>5673472</td>\n",
       "      <td>0</td>\n",
       "      <td>2016-05-09 09:24:09+00:00</td>\n",
       "      <td>2016-06-06 00:00:00+00:00</td>\n",
       "      <td>67</td>\n",
       "      <td>59</td>\n",
       "      <td>0</td>\n",
       "      <td>0</td>\n",
       "      <td>1</td>\n",
       "      <td>0</td>\n",
       "      <td>0</td>\n",
       "      <td>1</td>\n",
       "      <td>0</td>\n",
       "      <td>28</td>\n",
       "    </tr>\n",
       "    <tr>\n",
       "      <th>110499</th>\n",
       "      <td>8.219692e+14</td>\n",
       "      <td>5757697</td>\n",
       "      <td>0</td>\n",
       "      <td>2016-06-01 09:42:56+00:00</td>\n",
       "      <td>2016-06-01 00:00:00+00:00</td>\n",
       "      <td>66</td>\n",
       "      <td>43</td>\n",
       "      <td>0</td>\n",
       "      <td>1</td>\n",
       "      <td>1</td>\n",
       "      <td>0</td>\n",
       "      <td>0</td>\n",
       "      <td>0</td>\n",
       "      <td>0</td>\n",
       "      <td>0</td>\n",
       "    </tr>\n",
       "  </tbody>\n",
       "</table>\n",
       "<p>7943 rows × 15 columns</p>\n",
       "</div>"
      ],
      "text/plain": [
       "           PatientId  AppointmentID  Gender              ScheduledDay  \\\n",
       "4       8.841186e+12        5642494       0 2016-04-29 16:07:23+00:00   \n",
       "36      7.298459e+13        5637975       0 2016-04-29 07:35:19+00:00   \n",
       "37      1.578132e+12        5637986       0 2016-04-29 07:35:56+00:00   \n",
       "41      8.224325e+14        5633339       0 2016-04-28 09:20:36+00:00   \n",
       "44      2.741649e+11        5635414       0 2016-04-28 13:27:27+00:00   \n",
       "...              ...            ...     ...                       ...   \n",
       "110448  2.629184e+14        5756082       0 2016-06-01 07:56:41+00:00   \n",
       "110456  4.994742e+12        5772107       0 2016-06-03 14:34:46+00:00   \n",
       "110468  3.227475e+11        5763322       0 2016-06-02 08:49:21+00:00   \n",
       "110477  2.798494e+13        5673472       0 2016-05-09 09:24:09+00:00   \n",
       "110499  8.219692e+14        5757697       0 2016-06-01 09:42:56+00:00   \n",
       "\n",
       "                  AppointmentDay  Age  Neighbourhood  Scholarship  \\\n",
       "4      2016-04-29 00:00:00+00:00   56             39            0   \n",
       "36     2016-04-29 00:00:00+00:00   63             75            0   \n",
       "37     2016-04-29 00:00:00+00:00   64             78            1   \n",
       "41     2016-04-29 00:00:00+00:00   71             44            0   \n",
       "44     2016-04-29 00:00:00+00:00   78             75            0   \n",
       "...                          ...  ...            ...          ...   \n",
       "110448 2016-06-06 00:00:00+00:00   40             59            0   \n",
       "110456 2016-06-03 00:00:00+00:00   79             59            0   \n",
       "110468 2016-06-07 00:00:00+00:00   76             59            0   \n",
       "110477 2016-06-06 00:00:00+00:00   67             59            0   \n",
       "110499 2016-06-01 00:00:00+00:00   66             43            0   \n",
       "\n",
       "        Hipertension  Diabetes  Alcoholism  Handcap  SMS_received  No-show  \\\n",
       "4                  1         1           0        0             0        0   \n",
       "36                 1         1           0        0             0        0   \n",
       "37                 1         1           0        0             0        0   \n",
       "41                 0         1           0        0             0        0   \n",
       "44                 1         1           0        0             0        1   \n",
       "...              ...       ...         ...      ...           ...      ...   \n",
       "110448             1         1           0        0             1        0   \n",
       "110456             1         1           0        0             0        0   \n",
       "110468             1         1           0        0             1        0   \n",
       "110477             0         1           0        0             1        0   \n",
       "110499             1         1           0        0             0        0   \n",
       "\n",
       "        AwaitingTime  \n",
       "4                  0  \n",
       "36                 0  \n",
       "37                 0  \n",
       "41                 1  \n",
       "44                 1  \n",
       "...              ...  \n",
       "110448             5  \n",
       "110456             0  \n",
       "110468             5  \n",
       "110477            28  \n",
       "110499             0  \n",
       "\n",
       "[7943 rows x 15 columns]"
      ]
     },
     "execution_count": 40,
     "metadata": {},
     "output_type": "execute_result"
    }
   ],
   "source": [
    "df_consultas_filtrado[df_consultas_filtrado['Diabetes']==1]#['Age'].mean()"
   ]
  },
  {
   "cell_type": "code",
   "execution_count": 41,
   "metadata": {
    "id": "uwQyjt0cKZ0A"
   },
   "outputs": [],
   "source": [
    "x=df_consultas_filtrado[entradas]\n",
    "y=df_consultas_filtrado[saida]"
   ]
  },
  {
   "cell_type": "code",
   "execution_count": 42,
   "metadata": {
    "id": "naQ0S8IfJxgz"
   },
   "outputs": [],
   "source": [
    "#Dividindo o dataset\n",
    "from sklearn.model_selection import train_test_split\n",
    "x_train, x_test, y_train, y_test = train_test_split(x, y, test_size=0.3, random_state=42) "
   ]
  },
  {
   "cell_type": "code",
   "execution_count": 43,
   "metadata": {
    "id": "rC0wxjvOKkAn"
   },
   "outputs": [
    {
     "data": {
      "text/plain": [
       "(77368, 9)"
      ]
     },
     "execution_count": 43,
     "metadata": {},
     "output_type": "execute_result"
    }
   ],
   "source": [
    "x_train.shape"
   ]
  },
  {
   "cell_type": "markdown",
   "metadata": {
    "id": "2CNUM4ZHuor_"
   },
   "source": [
    "**Árvore de Decisão**"
   ]
  },
  {
   "cell_type": "code",
   "execution_count": 44,
   "metadata": {
    "id": "9UgADdeJKn5v"
   },
   "outputs": [
    {
     "data": {
      "text/plain": [
       "DecisionTreeClassifier(random_state=42)"
      ]
     },
     "execution_count": 44,
     "metadata": {},
     "output_type": "execute_result"
    }
   ],
   "source": [
    "#aplicando um modelo de classificação via árvore de decisão\n",
    "from sklearn.tree import DecisionTreeClassifier\n",
    "clf_arvore = DecisionTreeClassifier(random_state=42) \n",
    "clf_arvore.fit(x_train, y_train) "
   ]
  },
  {
   "cell_type": "code",
   "execution_count": 45,
   "metadata": {
    "id": "ka_hiy7xLAwg"
   },
   "outputs": [],
   "source": [
    "#realiza a previsão com os dados\n",
    "y_previsto = clf_arvore.predict(x_test) "
   ]
  },
  {
   "cell_type": "code",
   "execution_count": 46,
   "metadata": {
    "id": "0A5nhhyVMJiY"
   },
   "outputs": [
    {
     "name": "stdout",
     "output_type": "stream",
     "text": [
      "Acurácia da árvore de Decisão:  0.7380421014536461\n"
     ]
    }
   ],
   "source": [
    "from sklearn.metrics import accuracy_score\n",
    "acuracia = accuracy_score(y_test, y_previsto)\n",
    "print('Acurácia da árvore de Decisão: ',acuracia)"
   ]
  },
  {
   "cell_type": "code",
   "execution_count": 47,
   "metadata": {
    "id": "nE-ltwzZMy8g"
   },
   "outputs": [
    {
     "name": "stdout",
     "output_type": "stream",
     "text": [
      "[[22287  4273]\n",
      " [ 4413  2185]]\n"
     ]
    }
   ],
   "source": [
    "#contrução da matriz de confusão\n",
    "from sklearn.metrics import classification_report, confusion_matrix\n",
    "matriz_confusao = confusion_matrix(y_test, y_previsto)\n",
    "print(matriz_confusao)"
   ]
  },
  {
   "cell_type": "code",
   "execution_count": 48,
   "metadata": {},
   "outputs": [
    {
     "data": {
      "image/png": "[encoded data removed]",
      "text/plain": [
       "<Figure size 640x480 with 2 Axes>"
      ]
     },
     "metadata": {},
     "output_type": "display_data"
    }
   ],
   "source": [
    "sns.heatmap(matriz_confusao, center=True)\n",
    "plt.show()"
   ]
  },
  {
   "cell_type": "code",
   "execution_count": 49,
   "metadata": {
    "id": "TJkJds5DZpoi"
   },
   "outputs": [
    {
     "name": "stdout",
     "output_type": "stream",
     "text": [
      "              precision    recall  f1-score   support\n",
      "\n",
      "           0       0.83      0.84      0.84     26560\n",
      "           1       0.34      0.33      0.33      6598\n",
      "\n",
      "    accuracy                           0.74     33158\n",
      "   macro avg       0.59      0.59      0.59     33158\n",
      "weighted avg       0.74      0.74      0.74     33158\n",
      "\n"
     ]
    }
   ],
   "source": [
    "print(classification_report(y_test,y_previsto))"
   ]
  },
  {
   "cell_type": "markdown",
   "metadata": {
    "id": "eUrSRqbBulRj"
   },
   "source": [
    "**KNN**"
   ]
  },
  {
   "cell_type": "code",
   "execution_count": 50,
   "metadata": {
    "id": "0CmSUqtjug6U"
   },
   "outputs": [],
   "source": [
    "#contruindo o modelo para classificação com KNN com K=5\n",
    "from sklearn.neighbors import KNeighborsClassifier\n",
    "clf_KNN = KNeighborsClassifier(n_neighbors=5) #utiliza a construção por meio de 5 vizinhos"
   ]
  },
  {
   "cell_type": "code",
   "execution_count": 51,
   "metadata": {
    "id": "S0ftg_PdukmS"
   },
   "outputs": [
    {
     "name": "stderr",
     "output_type": "stream",
     "text": [
      "C:\\ProgramData\\Anaconda3\\lib\\site-packages\\sklearn\\neighbors\\_classification.py:198: DataConversionWarning: A column-vector y was passed when a 1d array was expected. Please change the shape of y to (n_samples,), for example using ravel().\n",
      "  return self._fit(X, y)\n"
     ]
    },
    {
     "data": {
      "text/plain": [
       "KNeighborsClassifier()"
      ]
     },
     "execution_count": 51,
     "metadata": {},
     "output_type": "execute_result"
    }
   ],
   "source": [
    "#treinando o modelo\n",
    "clf_KNN.fit(x_train, y_train) # aplica a classificação"
   ]
  },
  {
   "cell_type": "code",
   "execution_count": 52,
   "metadata": {
    "id": "W1ywtNlOuuE3"
   },
   "outputs": [
    {
     "name": "stderr",
     "output_type": "stream",
     "text": [
      "C:\\ProgramData\\Anaconda3\\lib\\site-packages\\sklearn\\neighbors\\_classification.py:228: FutureWarning: Unlike other reduction functions (e.g. `skew`, `kurtosis`), the default behavior of `mode` typically preserves the axis it acts along. In SciPy 1.11.0, this behavior will change: the default value of `keepdims` will become False, the `axis` over which the statistic is taken will be eliminated, and the value None will no longer be accepted. Set `keepdims` to True or False to avoid this warning.\n",
      "  mode, _ = stats.mode(_y[neigh_ind, k], axis=1)\n"
     ]
    }
   ],
   "source": [
    "#realiza a previsão para o KNN\n",
    "y_pred_KNN = clf_KNN.predict(x_test)"
   ]
  },
  {
   "cell_type": "code",
   "execution_count": 53,
   "metadata": {
    "id": "b7gnPfjduxxz"
   },
   "outputs": [
    {
     "name": "stdout",
     "output_type": "stream",
     "text": [
      "              precision    recall  f1-score   support\n",
      "\n",
      "           0       0.82      0.92      0.87     26560\n",
      "           1       0.37      0.20      0.26      6598\n",
      "\n",
      "    accuracy                           0.77     33158\n",
      "   macro avg       0.59      0.56      0.56     33158\n",
      "weighted avg       0.73      0.77      0.74     33158\n",
      "\n"
     ]
    }
   ],
   "source": [
    "print(classification_report(y_test,y_pred_KNN))"
   ]
  },
  {
   "cell_type": "markdown",
   "metadata": {
    "id": "YmS7zC-ovGQm"
   },
   "source": [
    "**MLP**"
   ]
  },
  {
   "cell_type": "code",
   "execution_count": 54,
   "metadata": {
    "id": "Gk1cr4qhvFf4"
   },
   "outputs": [],
   "source": [
    "#MLP como classificador\n",
    "from sklearn.neural_network import MLPClassifier"
   ]
  },
  {
   "cell_type": "code",
   "execution_count": 55,
   "metadata": {
    "id": "hB92ipAvvLa2"
   },
   "outputs": [
    {
     "name": "stderr",
     "output_type": "stream",
     "text": [
      "C:\\ProgramData\\Anaconda3\\lib\\site-packages\\sklearn\\neural_network\\_multilayer_perceptron.py:1109: DataConversionWarning: A column-vector y was passed when a 1d array was expected. Please change the shape of y to (n_samples, ), for example using ravel().\n",
      "  y = column_or_1d(y, warn=True)\n"
     ]
    },
    {
     "name": "stdout",
     "output_type": "stream",
     "text": [
      "Iteration 1, loss = 0.58939461\n",
      "Iteration 2, loss = 0.54521340\n",
      "Iteration 3, loss = 0.53590108\n",
      "Iteration 4, loss = 0.52954826\n",
      "Iteration 5, loss = 0.52595096\n",
      "Iteration 6, loss = 0.52344890\n",
      "Iteration 7, loss = 0.52155257\n",
      "Iteration 8, loss = 0.51996885\n",
      "Iteration 9, loss = 0.51854544\n",
      "Iteration 10, loss = 0.51721528\n",
      "Iteration 11, loss = 0.51592291\n",
      "Iteration 12, loss = 0.51468862\n",
      "Iteration 13, loss = 0.51350319\n",
      "Iteration 14, loss = 0.51230113\n",
      "Iteration 15, loss = 0.51110008\n",
      "Iteration 16, loss = 0.50985727\n",
      "Iteration 17, loss = 0.50868019\n",
      "Iteration 18, loss = 0.50743013\n",
      "Iteration 19, loss = 0.50613823\n",
      "Iteration 20, loss = 0.50481789\n",
      "Iteration 21, loss = 0.50341793\n",
      "Iteration 22, loss = 0.50196201\n",
      "Iteration 23, loss = 0.50038491\n",
      "Iteration 24, loss = 0.49871344\n",
      "Iteration 25, loss = 0.49692664\n",
      "Iteration 26, loss = 0.49501378\n",
      "Iteration 27, loss = 0.49307339\n",
      "Iteration 28, loss = 0.49107353\n",
      "Iteration 29, loss = 0.48904007\n",
      "Iteration 30, loss = 0.48717915\n",
      "Iteration 31, loss = 0.48565147\n",
      "Iteration 32, loss = 0.48441194\n",
      "Iteration 33, loss = 0.48340274\n",
      "Iteration 34, loss = 0.48248907\n",
      "Iteration 35, loss = 0.48166476\n",
      "Iteration 36, loss = 0.48091881\n",
      "Iteration 37, loss = 0.48021560\n",
      "Iteration 38, loss = 0.47960824\n",
      "Iteration 39, loss = 0.47901811\n",
      "Iteration 40, loss = 0.47844320\n",
      "Iteration 41, loss = 0.47791987\n",
      "Iteration 42, loss = 0.47741614\n",
      "Iteration 43, loss = 0.47692148\n",
      "Iteration 44, loss = 0.47641196\n",
      "Iteration 45, loss = 0.47589769\n",
      "Iteration 46, loss = 0.47538744\n",
      "Iteration 47, loss = 0.47489579\n",
      "Iteration 48, loss = 0.47438481\n",
      "Iteration 49, loss = 0.47388677\n",
      "Iteration 50, loss = 0.47340967\n",
      "Iteration 51, loss = 0.47294666\n",
      "Iteration 52, loss = 0.47251741\n",
      "Iteration 53, loss = 0.47208052\n",
      "Iteration 54, loss = 0.47166437\n",
      "Iteration 55, loss = 0.47125358\n",
      "Iteration 56, loss = 0.47085624\n",
      "Iteration 57, loss = 0.47042632\n",
      "Iteration 58, loss = 0.47004042\n",
      "Iteration 59, loss = 0.46965398\n",
      "Iteration 60, loss = 0.46930797\n",
      "Iteration 61, loss = 0.46895500\n",
      "Iteration 62, loss = 0.46862337\n",
      "Iteration 63, loss = 0.46831878\n",
      "Iteration 64, loss = 0.46798855\n",
      "Iteration 65, loss = 0.46766876\n",
      "Iteration 66, loss = 0.46739160\n",
      "Iteration 67, loss = 0.46714090\n",
      "Iteration 68, loss = 0.46686751\n",
      "Iteration 69, loss = 0.46658340\n",
      "Iteration 70, loss = 0.46632097\n",
      "Iteration 71, loss = 0.46605235\n",
      "Iteration 72, loss = 0.46575991\n",
      "Iteration 73, loss = 0.46553446\n",
      "Iteration 74, loss = 0.46532282\n",
      "Iteration 75, loss = 0.46509162\n",
      "Iteration 76, loss = 0.46483978\n",
      "Iteration 77, loss = 0.46460155\n",
      "Iteration 78, loss = 0.46435642\n",
      "Iteration 79, loss = 0.46425334\n",
      "Iteration 80, loss = 0.46402691\n",
      "Iteration 81, loss = 0.46383558\n",
      "Iteration 82, loss = 0.46364771\n",
      "Iteration 83, loss = 0.46349205\n",
      "Iteration 84, loss = 0.46326766\n",
      "Iteration 85, loss = 0.46311244\n",
      "Iteration 86, loss = 0.46295821\n",
      "Iteration 87, loss = 0.46277786\n",
      "Iteration 88, loss = 0.46262534\n",
      "Iteration 89, loss = 0.46245858\n",
      "Iteration 90, loss = 0.46236321\n",
      "Iteration 91, loss = 0.46218976\n",
      "Iteration 92, loss = 0.46204142\n",
      "Iteration 93, loss = 0.46196654\n",
      "Iteration 94, loss = 0.46179974\n",
      "Iteration 95, loss = 0.46161797\n",
      "Iteration 96, loss = 0.46148690\n",
      "Iteration 97, loss = 0.46133449\n",
      "Iteration 98, loss = 0.46117372\n",
      "Iteration 99, loss = 0.46105774\n",
      "Iteration 100, loss = 0.46091069\n",
      "Iteration 101, loss = 0.46080726\n",
      "Iteration 102, loss = 0.46066620\n",
      "Iteration 103, loss = 0.46055038\n",
      "Iteration 104, loss = 0.46041635\n",
      "Iteration 105, loss = 0.46025955\n",
      "Iteration 106, loss = 0.46016696\n",
      "Iteration 107, loss = 0.45996411\n",
      "Iteration 108, loss = 0.45990803\n",
      "Iteration 109, loss = 0.45974747\n",
      "Iteration 110, loss = 0.45965615\n",
      "Iteration 111, loss = 0.45952188\n",
      "Iteration 112, loss = 0.45941444\n",
      "Iteration 113, loss = 0.45928426\n",
      "Iteration 114, loss = 0.45915782\n",
      "Iteration 115, loss = 0.45903263\n",
      "Iteration 116, loss = 0.45895140\n",
      "Iteration 117, loss = 0.45879428\n",
      "Iteration 118, loss = 0.45871643\n",
      "Iteration 119, loss = 0.45856602\n",
      "Iteration 120, loss = 0.45849741\n",
      "Iteration 121, loss = 0.45840473\n",
      "Iteration 122, loss = 0.45831553\n",
      "Iteration 123, loss = 0.45820953\n",
      "Iteration 124, loss = 0.45813911\n",
      "Iteration 125, loss = 0.45804385\n",
      "Iteration 126, loss = 0.45797325\n",
      "Iteration 127, loss = 0.45787839\n",
      "Iteration 128, loss = 0.45781825\n",
      "Iteration 129, loss = 0.45772824\n",
      "Iteration 130, loss = 0.45759217\n",
      "Iteration 131, loss = 0.45752171\n",
      "Iteration 132, loss = 0.45747951\n",
      "Iteration 133, loss = 0.45737697\n",
      "Iteration 134, loss = 0.45723050\n",
      "Iteration 135, loss = 0.45715023\n",
      "Iteration 136, loss = 0.45705355\n",
      "Iteration 137, loss = 0.45695259\n",
      "Iteration 138, loss = 0.45689029\n",
      "Iteration 139, loss = 0.45678884\n",
      "Iteration 140, loss = 0.45677171\n",
      "Iteration 141, loss = 0.45665290\n",
      "Iteration 142, loss = 0.45656753\n",
      "Iteration 143, loss = 0.45654308\n",
      "Iteration 144, loss = 0.45648502\n",
      "Iteration 145, loss = 0.45642330\n",
      "Iteration 146, loss = 0.45632704\n",
      "Iteration 147, loss = 0.45625194\n",
      "Iteration 148, loss = 0.45627224\n",
      "Iteration 149, loss = 0.45615316\n",
      "Iteration 150, loss = 0.45611542\n",
      "Iteration 151, loss = 0.45604804\n",
      "Iteration 152, loss = 0.45603613\n",
      "Iteration 153, loss = 0.45595188\n",
      "Iteration 154, loss = 0.45589637\n",
      "Iteration 155, loss = 0.45588175\n",
      "Iteration 156, loss = 0.45585152\n",
      "Iteration 157, loss = 0.45582762\n",
      "Iteration 158, loss = 0.45581373\n",
      "Iteration 159, loss = 0.45570462\n",
      "Iteration 160, loss = 0.45569956\n",
      "Iteration 161, loss = 0.45563696\n",
      "Iteration 162, loss = 0.45561929\n",
      "Iteration 163, loss = 0.45561195\n",
      "Iteration 164, loss = 0.45551999\n",
      "Iteration 165, loss = 0.45547951\n",
      "Iteration 166, loss = 0.45545775\n",
      "Iteration 167, loss = 0.45548459\n",
      "Iteration 168, loss = 0.45540692\n",
      "Iteration 169, loss = 0.45533982\n",
      "Iteration 170, loss = 0.45533768\n",
      "Iteration 171, loss = 0.45533273\n",
      "Iteration 172, loss = 0.45522891\n",
      "Iteration 173, loss = 0.45521513\n",
      "Iteration 174, loss = 0.45516076\n",
      "Iteration 175, loss = 0.45521234\n",
      "Iteration 176, loss = 0.45512513\n",
      "Iteration 177, loss = 0.45513978\n",
      "Iteration 178, loss = 0.45502553\n",
      "Iteration 179, loss = 0.45500011\n",
      "Iteration 180, loss = 0.45503853\n",
      "Iteration 181, loss = 0.45497895\n",
      "Iteration 182, loss = 0.45497068\n",
      "Iteration 183, loss = 0.45493406\n",
      "Iteration 184, loss = 0.45487262\n",
      "Iteration 185, loss = 0.45485933\n",
      "Iteration 186, loss = 0.45485718\n",
      "Iteration 187, loss = 0.45480930\n",
      "Iteration 188, loss = 0.45475487\n",
      "Iteration 189, loss = 0.45473935\n",
      "Iteration 190, loss = 0.45470142\n",
      "Iteration 191, loss = 0.45470297\n",
      "Iteration 192, loss = 0.45467685\n",
      "Iteration 193, loss = 0.45463941\n",
      "Iteration 194, loss = 0.45463358\n",
      "Iteration 195, loss = 0.45455020\n",
      "Iteration 196, loss = 0.45455050\n",
      "Iteration 197, loss = 0.45457189\n",
      "Iteration 198, loss = 0.45449524\n",
      "Iteration 199, loss = 0.45449564\n",
      "Iteration 200, loss = 0.45446885\n",
      "Iteration 201, loss = 0.45437173\n",
      "Iteration 202, loss = 0.45437611\n",
      "Iteration 203, loss = 0.45436650\n",
      "Iteration 204, loss = 0.45440536\n",
      "Iteration 205, loss = 0.45433249\n",
      "Iteration 206, loss = 0.45427765\n",
      "Iteration 207, loss = 0.45435805\n",
      "Iteration 208, loss = 0.45433592\n",
      "Iteration 209, loss = 0.45429032\n",
      "Iteration 210, loss = 0.45428988\n",
      "Iteration 211, loss = 0.45421733\n",
      "Iteration 212, loss = 0.45420899\n",
      "Iteration 213, loss = 0.45422004\n",
      "Iteration 214, loss = 0.45416037\n",
      "Iteration 215, loss = 0.45413605\n",
      "Iteration 216, loss = 0.45408043\n",
      "Iteration 217, loss = 0.45412968\n",
      "Iteration 218, loss = 0.45416400\n",
      "Iteration 219, loss = 0.45406998\n",
      "Iteration 220, loss = 0.45405804\n",
      "Iteration 221, loss = 0.45404389\n",
      "Iteration 222, loss = 0.45406006\n",
      "Iteration 223, loss = 0.45400807\n",
      "Iteration 224, loss = 0.45395590\n",
      "Iteration 225, loss = 0.45401814\n",
      "Iteration 226, loss = 0.45397349\n",
      "Iteration 227, loss = 0.45388689\n",
      "Iteration 228, loss = 0.45392273\n",
      "Iteration 229, loss = 0.45390160\n",
      "Iteration 230, loss = 0.45390628\n",
      "Iteration 231, loss = 0.45381399\n",
      "Iteration 232, loss = 0.45382263\n",
      "Iteration 233, loss = 0.45387286\n",
      "Iteration 234, loss = 0.45384592\n",
      "Iteration 235, loss = 0.45372224\n",
      "Iteration 236, loss = 0.45375534\n",
      "Iteration 237, loss = 0.45374014\n",
      "Iteration 238, loss = 0.45375531\n",
      "Iteration 239, loss = 0.45368407\n",
      "Iteration 240, loss = 0.45370600\n",
      "Iteration 241, loss = 0.45369129\n",
      "Iteration 242, loss = 0.45369253\n",
      "Iteration 243, loss = 0.45361653\n",
      "Iteration 244, loss = 0.45364484\n",
      "Iteration 245, loss = 0.45359151\n",
      "Iteration 246, loss = 0.45357703\n",
      "Iteration 247, loss = 0.45365063\n",
      "Iteration 248, loss = 0.45360970\n",
      "Iteration 249, loss = 0.45355804\n",
      "Iteration 250, loss = 0.45349757\n",
      "Iteration 251, loss = 0.45356243\n",
      "Iteration 252, loss = 0.45355109\n"
     ]
    },
    {
     "name": "stdout",
     "output_type": "stream",
     "text": [
      "Iteration 253, loss = 0.45347756\n",
      "Iteration 254, loss = 0.45350864\n",
      "Iteration 255, loss = 0.45346538\n",
      "Iteration 256, loss = 0.45343167\n",
      "Iteration 257, loss = 0.45342473\n",
      "Iteration 258, loss = 0.45343065\n",
      "Iteration 259, loss = 0.45344454\n",
      "Iteration 260, loss = 0.45341928\n",
      "Iteration 261, loss = 0.45341519\n",
      "Iteration 262, loss = 0.45340348\n",
      "Iteration 263, loss = 0.45338095\n",
      "Iteration 264, loss = 0.45336617\n",
      "Iteration 265, loss = 0.45328381\n",
      "Iteration 266, loss = 0.45334028\n",
      "Iteration 267, loss = 0.45329533\n",
      "Iteration 268, loss = 0.45321184\n",
      "Iteration 269, loss = 0.45335295\n",
      "Iteration 270, loss = 0.45334643\n",
      "Iteration 271, loss = 0.45324265\n",
      "Iteration 272, loss = 0.45325634\n",
      "Iteration 273, loss = 0.45325282\n",
      "Iteration 274, loss = 0.45322822\n",
      "Iteration 275, loss = 0.45319640\n",
      "Iteration 276, loss = 0.45323890\n",
      "Iteration 277, loss = 0.45318279\n",
      "Iteration 278, loss = 0.45315133\n",
      "Iteration 279, loss = 0.45315414\n",
      "Iteration 280, loss = 0.45315570\n",
      "Iteration 281, loss = 0.45317840\n",
      "Iteration 282, loss = 0.45314848\n",
      "Iteration 283, loss = 0.45304739\n",
      "Iteration 284, loss = 0.45318645\n",
      "Iteration 285, loss = 0.45308409\n",
      "Iteration 286, loss = 0.45303993\n",
      "Iteration 287, loss = 0.45303781\n",
      "Iteration 288, loss = 0.45305147\n",
      "Iteration 289, loss = 0.45312238\n",
      "Iteration 290, loss = 0.45305436\n",
      "Iteration 291, loss = 0.45307208\n",
      "Iteration 292, loss = 0.45300399\n",
      "Iteration 293, loss = 0.45300863\n",
      "Iteration 294, loss = 0.45304194\n",
      "Iteration 295, loss = 0.45294914\n",
      "Iteration 296, loss = 0.45291935\n",
      "Iteration 297, loss = 0.45290789\n",
      "Iteration 298, loss = 0.45292203\n",
      "Iteration 299, loss = 0.45290810\n",
      "Iteration 300, loss = 0.45296767\n",
      "Iteration 301, loss = 0.45294462\n",
      "Iteration 302, loss = 0.45289432\n",
      "Iteration 303, loss = 0.45289842\n",
      "Iteration 304, loss = 0.45286961\n",
      "Iteration 305, loss = 0.45287923\n",
      "Iteration 306, loss = 0.45285530\n",
      "Iteration 307, loss = 0.45276429\n",
      "Iteration 308, loss = 0.45290472\n",
      "Iteration 309, loss = 0.45287693\n",
      "Iteration 310, loss = 0.45275367\n",
      "Iteration 311, loss = 0.45285305\n",
      "Iteration 312, loss = 0.45286410\n",
      "Iteration 313, loss = 0.45280226\n",
      "Iteration 314, loss = 0.45284405\n",
      "Iteration 315, loss = 0.45275718\n",
      "Iteration 316, loss = 0.45276270\n",
      "Iteration 317, loss = 0.45279272\n",
      "Iteration 318, loss = 0.45276106\n",
      "Iteration 319, loss = 0.45278956\n",
      "Iteration 320, loss = 0.45278388\n",
      "Iteration 321, loss = 0.45275811\n",
      "Training loss did not improve more than tol=0.000000 for 10 consecutive epochs. Stopping.\n"
     ]
    },
    {
     "data": {
      "text/plain": [
       "MLPClassifier(hidden_layer_sizes=(5, 5), max_iter=500, momentum=0.01,\n",
       "              random_state=21, solver='sgd', tol=1e-09, verbose=10)"
      ]
     },
     "execution_count": 55,
     "metadata": {},
     "output_type": "execute_result"
    }
   ],
   "source": [
    "#define a configuração da rede\n",
    "clf = MLPClassifier(hidden_layer_sizes=(5,5), max_iter=500, alpha=0.0001, learning_rate_init=0.001,\n",
    "                     solver='sgd', verbose=10,  random_state=21,tol=0.000000001, momentum=0.01)\n",
    "\n",
    "#realiza o fit do modelo\n",
    "clf.fit(x_train, y_train)\n"
   ]
  },
  {
   "cell_type": "code",
   "execution_count": 56,
   "metadata": {},
   "outputs": [],
   "source": [
    "#realiza a previsão\n",
    "y_pred = clf.predict(x_test)"
   ]
  },
  {
   "cell_type": "code",
   "execution_count": 57,
   "metadata": {},
   "outputs": [
    {
     "name": "stdout",
     "output_type": "stream",
     "text": [
      "              precision    recall  f1-score   support\n",
      "\n",
      "           0       0.80      1.00      0.89     26560\n",
      "           1       0.00      0.00      0.00      6598\n",
      "\n",
      "    accuracy                           0.80     33158\n",
      "   macro avg       0.40      0.50      0.44     33158\n",
      "weighted avg       0.64      0.80      0.71     33158\n",
      "\n"
     ]
    },
    {
     "name": "stderr",
     "output_type": "stream",
     "text": [
      "C:\\ProgramData\\Anaconda3\\lib\\site-packages\\sklearn\\metrics\\_classification.py:1318: UndefinedMetricWarning: Precision and F-score are ill-defined and being set to 0.0 in labels with no predicted samples. Use `zero_division` parameter to control this behavior.\n",
      "  _warn_prf(average, modifier, msg_start, len(result))\n",
      "C:\\ProgramData\\Anaconda3\\lib\\site-packages\\sklearn\\metrics\\_classification.py:1318: UndefinedMetricWarning: Precision and F-score are ill-defined and being set to 0.0 in labels with no predicted samples. Use `zero_division` parameter to control this behavior.\n",
      "  _warn_prf(average, modifier, msg_start, len(result))\n",
      "C:\\ProgramData\\Anaconda3\\lib\\site-packages\\sklearn\\metrics\\_classification.py:1318: UndefinedMetricWarning: Precision and F-score are ill-defined and being set to 0.0 in labels with no predicted samples. Use `zero_division` parameter to control this behavior.\n",
      "  _warn_prf(average, modifier, msg_start, len(result))\n"
     ]
    }
   ],
   "source": [
    "print(classification_report(y_test,y_pred))"
   ]
  },
  {
   "cell_type": "code",
   "execution_count": 58,
   "metadata": {},
   "outputs": [
    {
     "name": "stderr",
     "output_type": "stream",
     "text": [
      "C:\\ProgramData\\Anaconda3\\lib\\site-packages\\sklearn\\base.py:450: UserWarning: X does not have valid feature names, but MLPClassifier was fitted with feature names\n",
      "  warnings.warn(\n"
     ]
    },
    {
     "data": {
      "text/plain": [
       "array([0], dtype=int8)"
      ]
     },
     "execution_count": 58,
     "metadata": {},
     "output_type": "execute_result"
    }
   ],
   "source": [
    "# Gender, Age, Neighbourhood, Scholarship, Hipertension, Diabetes, Alcoholism, SMS_received, AwaitingTime\n",
    "dados = np.array([ 1, 78, 75,  1,  1,  1,  1,  1, 35])\n",
    "clf.predict(dados.reshape(1, -1))"
   ]
  },
  {
   "cell_type": "markdown",
   "metadata": {},
   "source": [
    "## Ajuste Questão\n",
    "##### Treinando uma arvore aleatória com a base de dados census, e seguindo os parâmetros: \n",
    "random_forest_census = RandomForestClassifier(n_estimators=100, criterion='entropy', random_state = 0)\n",
    "random_forest_census.fit(X_census_treinamento, y_census_treinamento)\n"
   ]
  },
  {
   "cell_type": "code",
   "execution_count": 59,
   "metadata": {},
   "outputs": [],
   "source": [
    "base_census = pd.read_csv(\"census.csv\")\n",
    "base_census = base_census.dropna()\n",
    "X_census = base_census.iloc[:, 0:14].values\n",
    "y_census = base_census.iloc[:, 14].values"
   ]
  },
  {
   "cell_type": "code",
   "execution_count": 60,
   "metadata": {},
   "outputs": [],
   "source": [
    "from sklearn.preprocessing import LabelEncoder\n",
    "\n",
    "label_encoder_teste = LabelEncoder()\n",
    "label_encoder_workclass = LabelEncoder()\n",
    "label_encoder_education = LabelEncoder()\n",
    "label_encoder_marital = LabelEncoder()\n",
    "label_encoder_occupation = LabelEncoder()\n",
    "label_encoder_relationship = LabelEncoder()\n",
    "label_encoder_race = LabelEncoder()\n",
    "label_encoder_sex = LabelEncoder()\n",
    "label_encoder_country = LabelEncoder()"
   ]
  },
  {
   "cell_type": "code",
   "execution_count": 61,
   "metadata": {},
   "outputs": [],
   "source": [
    "X_census[:,1] = label_encoder_workclass.fit_transform(X_census[:,1])\n",
    "X_census[:,3] = label_encoder_education.fit_transform(X_census[:,3])\n",
    "X_census[:,5] = label_encoder_marital.fit_transform(X_census[:,5])\n",
    "X_census[:,6] = label_encoder_occupation.fit_transform(X_census[:,6])\n",
    "X_census[:,7] = label_encoder_relationship.fit_transform(X_census[:,7])\n",
    "X_census[:,8] = label_encoder_race.fit_transform(X_census[:,8])\n",
    "X_census[:,9] = label_encoder_sex.fit_transform(X_census[:,9])\n",
    "X_census[:,13] = label_encoder_country.fit_transform(X_census[:,13])"
   ]
  },
  {
   "cell_type": "code",
   "execution_count": 62,
   "metadata": {},
   "outputs": [],
   "source": [
    "from sklearn.preprocessing import OneHotEncoder\n",
    "from sklearn.compose import ColumnTransformer\n",
    "import numpy as np"
   ]
  },
  {
   "cell_type": "code",
   "execution_count": 63,
   "metadata": {},
   "outputs": [],
   "source": [
    "onehotencoder_census = ColumnTransformer(transformers=[('OneHot', OneHotEncoder(), [1,3,5,6,7,8,9,13])], remainder='passthrough')\n",
    "X_census = onehotencoder_census.fit_transform(X_census).toarray()"
   ]
  },
  {
   "cell_type": "code",
   "execution_count": 64,
   "metadata": {},
   "outputs": [],
   "source": [
    "from sklearn.preprocessing import StandardScaler\n",
    "scaler_census = StandardScaler()\n",
    "X_census = scaler_census.fit_transform(X_census)"
   ]
  },
  {
   "cell_type": "code",
   "execution_count": 65,
   "metadata": {},
   "outputs": [],
   "source": [
    "from sklearn.model_selection import train_test_split"
   ]
  },
  {
   "cell_type": "code",
   "execution_count": 66,
   "metadata": {},
   "outputs": [],
   "source": [
    "X_census_treinamento, X_census_teste, y_census_treinamento, y_census_teste = train_test_split(X_census, y_census, test_size = 0.15, random_state = 0)"
   ]
  },
  {
   "cell_type": "code",
   "execution_count": 67,
   "metadata": {},
   "outputs": [],
   "source": [
    "X_census_treinamento, X_census_teste, y_census_treinamento, y_census_teste = train_test_split(X_census, y_census, test_size = 0.15, random_state = 0)"
   ]
  },
  {
   "cell_type": "code",
   "execution_count": 69,
   "metadata": {},
   "outputs": [
    {
     "data": {
      "text/plain": [
       "RandomForestClassifier(criterion='entropy', random_state=0)"
      ]
     },
     "execution_count": 69,
     "metadata": {},
     "output_type": "execute_result"
    }
   ],
   "source": [
    "from sklearn.ensemble import RandomForestClassifier\n",
    "random_forest_census = RandomForestClassifier(n_estimators=100, criterion='entropy', random_state = 0)\n",
    "random_forest_census.fit(X_census_treinamento, y_census_treinamento)"
   ]
  },
  {
   "cell_type": "code",
   "execution_count": 71,
   "metadata": {},
   "outputs": [
    {
     "data": {
      "text/plain": [
       "array([' <=50K', ' <=50K', ' <=50K', ..., ' <=50K', ' <=50K', ' >50K'],\n",
       "      dtype=object)"
      ]
     },
     "execution_count": 71,
     "metadata": {},
     "output_type": "execute_result"
    }
   ],
   "source": [
    "previsoes = random_forest_census.predict(X_census_teste)\n",
    "previsoes"
   ]
  },
  {
   "cell_type": "code",
   "execution_count": 72,
   "metadata": {},
   "outputs": [
    {
     "data": {
      "text/plain": [
       "0.8507676560900717"
      ]
     },
     "execution_count": 72,
     "metadata": {},
     "output_type": "execute_result"
    }
   ],
   "source": [
    "from sklearn.metrics import accuracy_score, classification_report\n",
    "accuracy_score(y_census_teste, previsoes)"
   ]
  },
  {
   "cell_type": "code",
   "execution_count": null,
   "metadata": {},
   "outputs": [],
   "source": []
  }
 ],
 "metadata": {
  "colab": {
   "collapsed_sections": [],
   "provenance": []
  },
  "kernelspec": {
   "display_name": "Python 3 (ipykernel)",
   "language": "python",
   "name": "python3"
  },
  "language_info": {
   "codemirror_mode": {
    "name": "ipython",
    "version": 3
   },
   "file_extension": ".py",
   "mimetype": "text/x-python",
   "name": "python",
   "nbconvert_exporter": "python",
   "pygments_lexer": "ipython3",
   "version": "3.9.13"
  }
 },
 "nbformat": 4,
 "nbformat_minor": 1
}
